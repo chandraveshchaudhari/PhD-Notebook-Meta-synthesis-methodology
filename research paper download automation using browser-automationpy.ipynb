{
 "cells": [
  {
   "cell_type": "markdown",
   "id": "8a60126c",
   "metadata": {},
   "source": [
    "https://www.youtube.com/watch?v=GIF3LaRqgXo\n",
    "\n",
    "https://packaging.python.org/tutorials/packaging-projects/\n",
    "\n",
    "https://realpython.com/pypi-publish-python-package/"
   ]
  },
  {
   "cell_type": "code",
   "execution_count": 1,
   "id": "ea03bc45",
   "metadata": {},
   "outputs": [
    {
     "name": "stdout",
     "output_type": "stream",
     "text": [
      "Looking in indexes: https://test.pypi.org/simple/\n",
      "Requirement already satisfied: browser-automationpy-CHANDRAVESH-CHAUDHARI==0.0.19 in /home/chaudharyubuntu/anaconda3/envs/testingPipProjects/lib/python3.7/site-packages (0.0.19)\n",
      "Requirement already satisfied: webdriver-manager in /home/chaudharyubuntu/anaconda3/envs/testingPipProjects/lib/python3.7/site-packages (from browser-automationpy-CHANDRAVESH-CHAUDHARI==0.0.19) (3.4.2)\n",
      "Requirement already satisfied: selenium in /home/chaudharyubuntu/anaconda3/envs/testingPipProjects/lib/python3.7/site-packages (from browser-automationpy-CHANDRAVESH-CHAUDHARI==0.0.19) (3.141.0)\n",
      "Requirement already satisfied: urllib3 in /home/chaudharyubuntu/anaconda3/envs/testingPipProjects/lib/python3.7/site-packages (from selenium->browser-automationpy-CHANDRAVESH-CHAUDHARI==0.0.19) (1.26.6)\n",
      "Requirement already satisfied: crayons in /home/chaudharyubuntu/anaconda3/envs/testingPipProjects/lib/python3.7/site-packages (from webdriver-manager->browser-automationpy-CHANDRAVESH-CHAUDHARI==0.0.19) (0.4.0)\n",
      "Requirement already satisfied: requests in /home/chaudharyubuntu/anaconda3/envs/testingPipProjects/lib/python3.7/site-packages (from webdriver-manager->browser-automationpy-CHANDRAVESH-CHAUDHARI==0.0.19) (2.26.0)\n",
      "Requirement already satisfied: configparser in /home/chaudharyubuntu/anaconda3/envs/testingPipProjects/lib/python3.7/site-packages (from webdriver-manager->browser-automationpy-CHANDRAVESH-CHAUDHARI==0.0.19) (5.0.2)\n",
      "Requirement already satisfied: colorama in /home/chaudharyubuntu/anaconda3/envs/testingPipProjects/lib/python3.7/site-packages (from crayons->webdriver-manager->browser-automationpy-CHANDRAVESH-CHAUDHARI==0.0.19) (0.4.4)\n",
      "Requirement already satisfied: certifi>=2017.4.17 in /home/chaudharyubuntu/anaconda3/envs/testingPipProjects/lib/python3.7/site-packages (from requests->webdriver-manager->browser-automationpy-CHANDRAVESH-CHAUDHARI==0.0.19) (2021.10.8)\n",
      "Requirement already satisfied: charset-normalizer~=2.0.0 in /home/chaudharyubuntu/anaconda3/envs/testingPipProjects/lib/python3.7/site-packages (from requests->webdriver-manager->browser-automationpy-CHANDRAVESH-CHAUDHARI==0.0.19) (2.0.4)\n",
      "Requirement already satisfied: idna<4,>=2.5 in /home/chaudharyubuntu/anaconda3/envs/testingPipProjects/lib/python3.7/site-packages (from requests->webdriver-manager->browser-automationpy-CHANDRAVESH-CHAUDHARI==0.0.19) (3.2)\n"
     ]
    }
   ],
   "source": [
    "!pip install -i https://test.pypi.org/simple/ browser-automationpy-CHANDRAVESH-CHAUDHARI==0.0.19"
   ]
  },
  {
   "cell_type": "code",
   "execution_count": 2,
   "id": "9604ec42",
   "metadata": {},
   "outputs": [],
   "source": [
    "import browser_automation"
   ]
  },
  {
   "cell_type": "markdown",
   "id": "61bb78cf",
   "metadata": {},
   "source": [
    "## Install and run browser"
   ]
  },
  {
   "cell_type": "code",
   "execution_count": 12,
   "id": "e658686a",
   "metadata": {},
   "outputs": [],
   "source": [
    "# browser_automation.browser_setup.CustomOptions().get_default_custom_options_json()"
   ]
  },
  {
   "cell_type": "code",
   "execution_count": 5,
   "id": "bda91a9a",
   "metadata": {},
   "outputs": [],
   "source": [
    "custom_json_path = './customoption.json'"
   ]
  },
  {
   "cell_type": "code",
   "execution_count": 4,
   "id": "c870a6f9",
   "metadata": {},
   "outputs": [
    {
     "name": "stderr",
     "output_type": "stream",
     "text": [
      "\n",
      "\n",
      "====== WebDriver manager ======\n",
      "Current google-chrome version is 84.0.4147\n",
      "Get LATEST driver version for 84.0.4147\n",
      "Driver [/home/chaudharyubuntu/.wdm/drivers/chromedriver/linux64/84.0.4147.30/chromedriver] found in cache\n"
     ]
    }
   ],
   "source": [
    "temp_browser = browser_automation.browser_manipulation.Interactions(custom_browser_options_json_path = custom_json_path)"
   ]
  },
  {
   "cell_type": "code",
   "execution_count": 6,
   "id": "b31d15d6",
   "metadata": {},
   "outputs": [],
   "source": [
    "driver = temp_browser.driver"
   ]
  },
  {
   "cell_type": "markdown",
   "id": "ad31ce9e",
   "metadata": {},
   "source": [
    "# Articles to download"
   ]
  },
  {
   "cell_type": "code",
   "execution_count": 9,
   "id": "c6620330",
   "metadata": {},
   "outputs": [
    {
     "data": {
      "text/plain": [
       "array(['Proquest central', 'IEEE xplore', 'Springer', 'Sage Journal',\n",
       "       'emerald insight', 'Arxiv', 'ACM digital library', 'MDPI',\n",
       "       'taylor and francis', 'Science Direct', 'wiley', 'Oxford academic'],\n",
       "      dtype=object)"
      ]
     },
     "execution_count": 9,
     "metadata": {},
     "output_type": "execute_result"
    }
   ],
   "source": [
    "import pandas as pd\n",
    "# stable configuration\n",
    "filtered_article_name_source_name = pd.read_csv(\"/home/chaudharyubuntu/Desktop/systematic_review_python_code/to_download.csv\")\n",
    "filtered_article_name_source_name[\"source\"].unique()"
   ]
  },
  {
   "cell_type": "markdown",
   "id": "0f6fa037",
   "metadata": {},
   "source": [
    "## Optional: remotex log in"
   ]
  },
  {
   "cell_type": "code",
   "execution_count": 310,
   "id": "ea3d0050",
   "metadata": {},
   "outputs": [],
   "source": [
    "# stable configuration\n",
    "REMOTEX_SITE_URL = \"https://library-christuniversity.remotexs.in\"\n",
    "REMOTEX_USERNAME = \"chandravesh.chaudhari@res.christuniversity.in\"\n",
    "REMOTEX_PASSWORD = \"18071996\"\n"
   ]
  },
  {
   "cell_type": "code",
   "execution_count": 311,
   "id": "71b37b2c",
   "metadata": {},
   "outputs": [],
   "source": [
    "# Path of Dynamic web element\n",
    "remotex_username_input_xpath = \"/html/body/div[4]/div/div[2]/div[2]/form/div[2]/div[1]/input\"\n",
    "remotex_password_input_xpath = \"/html/body/div[4]/div/div[2]/div[2]/form/div[2]/div[2]/input\"\n",
    "remotex_login_button_xpath = \"/html/body/div[4]/div/div[2]/div[2]/form/div[2]/div[4]/input\""
   ]
  },
  {
   "cell_type": "code",
   "execution_count": 312,
   "id": "f623a9eb",
   "metadata": {},
   "outputs": [
    {
     "name": "stdout",
     "output_type": "stream",
     "text": [
      "Going to website: https://library-christuniversity.remotexs.in\n",
      "Sleeping for 6.4\n",
      "element locator path can not be found\n",
      "Sleeping for 11.5\n",
      "element locator path can not be found\n",
      "element locator path can not be found\n",
      "Sleeping for 9.1\n"
     ]
    }
   ],
   "source": [
    "website_login( REMOTEX_SITE_URL, \"xpath\", remotex_username_input_xpath, REMOTEX_USERNAME, \"xpath\", remotex_password_input_xpath, REMOTEX_PASSWORD, \"xpath\", remotex_login_button_xpath)"
   ]
  },
  {
   "cell_type": "markdown",
   "id": "9b11bbdc",
   "metadata": {
    "tags": []
   },
   "source": [
    "## Knimbus library: Main access "
   ]
  },
  {
   "cell_type": "code",
   "execution_count": 8,
   "id": "c7ace519",
   "metadata": {},
   "outputs": [],
   "source": [
    "# stable configuration\n",
    "KNIMBUS_LIBRARY_URL = \"https://christuniversity.knimbus.com/user#/home\"\n",
    "KNIMBUS_USERNAME = \"chandravesh.chaudhari@res.christuniversity.in\"\n",
    "KNIMBUS_PASSWORD = \"cvbCVB123!@#\"\n",
    "# Path of Dynamic web element\n",
    "sign_in_xpath = \"//a[normalize-space()='Sign In']\"\n",
    "knimbus_username_inputbox_xpath = \"//form[@name='signInForUser']//input[@placeholder='Enter your email address']\"\n",
    "knimbus_username_inputbox_name = \"emailId\"\n",
    "knimbus_password_name = \"password\"\n",
    "knimbus_sign_in_button_xpath = \"/html/body/div[3]/div/div/div/div[1]/div[2]/div/form[1]/div/div[2]/button\"\n",
    "knimbus_remote_access_xpath = \"/html/body/div/div/div[1]/div[1]/div[1]/nav/div[2]/div/div[1]/div/ul/li[7]/a\""
   ]
  },
  {
   "cell_type": "code",
   "execution_count": 351,
   "id": "2398b2e2",
   "metadata": {},
   "outputs": [
    {
     "name": "stdout",
     "output_type": "stream",
     "text": [
      "Going to website: https://christuniversity.knimbus.com/user#/home\n",
      "Sleeping for 8.5\n",
      "element locator path can not be found\n",
      "Sleeping for 10.1\n",
      "element locator path can not be found\n",
      "element locator path can not be found\n",
      "Sleeping for 10.8\n"
     ]
    }
   ],
   "source": [
    "website_login(KNIMBUS_LIBRARY_URL, \"name\", knimbus_username_inputbox_name, KNIMBUS_USERNAME,\n",
    "             \"name\", knimbus_password_name, KNIMBUS_PASSWORD, \"xpath\", knimbus_sign_in_button_xpath,\n",
    "             \"xpath\", sign_in_xpath)"
   ]
  },
  {
   "cell_type": "markdown",
   "id": "c1b00511",
   "metadata": {},
   "source": [
    "#### Manual way to log in"
   ]
  },
  {
   "cell_type": "code",
   "execution_count": 9,
   "id": "a0c640f0",
   "metadata": {},
   "outputs": [],
   "source": [
    "driver.get(KNIMBUS_LIBRARY_URL)     "
   ]
  },
  {
   "cell_type": "code",
   "execution_count": 28,
   "id": "58056d76",
   "metadata": {},
   "outputs": [],
   "source": [
    "click_on_button(\"xpath\", sign_in_xpath)"
   ]
  },
  {
   "cell_type": "code",
   "execution_count": 29,
   "id": "0951a08c",
   "metadata": {},
   "outputs": [
    {
     "name": "stdout",
     "output_type": "stream",
     "text": [
      "element locator path can not be found\n"
     ]
    }
   ],
   "source": [
    "write_in_inputbox(\"xpath\", knimbus_username_inputbox_name, KNIMBUS_USERNAME)\n",
    "    "
   ]
  },
  {
   "cell_type": "code",
   "execution_count": 30,
   "id": "8220a27f",
   "metadata": {},
   "outputs": [],
   "source": [
    "write_in_inputbox(\"name\", knimbus_password_name, KNIMBUS_PASSWORD)\n"
   ]
  },
  {
   "cell_type": "code",
   "execution_count": 252,
   "id": "df286caa",
   "metadata": {},
   "outputs": [],
   "source": [
    "click_on_button(\"xpath\", knimbus_sign_in_button_xpath)"
   ]
  },
  {
   "cell_type": "code",
   "execution_count": 17,
   "id": "5f2292bb",
   "metadata": {},
   "outputs": [],
   "source": [
    "click_on_button(\"xpath\", knimbus_remote_access_xpath)"
   ]
  },
  {
   "cell_type": "code",
   "execution_count": null,
   "id": "ce7c6c4e",
   "metadata": {},
   "outputs": [],
   "source": []
  },
  {
   "cell_type": "markdown",
   "id": "864acc75",
   "metadata": {},
   "source": [
    "##  ACM digital library : completed"
   ]
  },
  {
   "cell_type": "code",
   "execution_count": 115,
   "id": "4b82581c",
   "metadata": {},
   "outputs": [
    {
     "name": "stdout",
     "output_type": "stream",
     "text": [
      "['Hybrid Deep Sequential Modeling for Social Text-Driven Stock Prediction', 'Ant colony based approach to predict stock market movement from mood collected on Twitter', 'Forecasting stock market movements using various kernel functions in support vector machine', 'Binarized genetic algorithm with neural network for stock market prediction', 'CashTagNN: Exploiting the Use of CashTags to Predict Stock Market Prices Using Convolutional Networks', 'Domain Adaptive Multi-Modality Neural Attention Network for Financial Forecasting', 'Stock portfolio prediction by multi-target decision support', 'An exponential factorization machine with percentage error minimization to retail sales forecasting', 'Stock Movement Classification from Twitter via Mogrifier Based Memory Cells with Attention Mechanism', 'Stable stock market prediction using NARX algorithm', 'Listening to chaotic whispers: A deep learning framework for news-oriented Stock trend prediction', 'EAN: Event attention network for stock price trend prediction based on sentimental embedding', 'Forecasting with twitter data', 'Multi-task recurrent neural networks and higher-order Markov Random fields for stock price movement prediction', 'Stock market prediction using ensemble of graph theory, machine learning and deep learning models', 'A Hybrid Forecasting Model for Stock Price Prediction', 'Stock Selection Strategy Based on Support Vector Machine', 'Proposal and implementation of machine learning models for stock markets using web data', 'Stock Price Analysis with Natural Language Processing and Machine Learning', 'A double-layer neural network framework for high-frequency forecasting', 'Inference of the Us and Chinese Stock Markets Using Statistical and Computational Methods', 'Exploring the Scale-Free Nature of Stock Markets: Hyperbolic Graph Learning for Algorithmic Trading', 'Digital Ai \"decision Tree\" for Predicting Russian Gdp Value Based on Big Data Mining to Ensure Balanced and Sustainable Economic Growth', 'Forecasting the Trends of Stock Price through Social Networks by Fuzzy Support Vector Machine with Possibility Measures', 'A machine learning approach for stock price prediction', 'Forecasting the Short-term Price Trend of Taiwan Stocks with Deep Neural Network', 'Prediction of index trend based on LSTM model for extracting image similarity feature', 'A study on the stock market prediction based on genetic neural network', 'Deep learning using risk-reward function for stock market prediction', 'Design of stock price prediction model with various configuration of input features', 'Based on Microblog Emotions Analysis to Study the Impact of the Sade Event on the Chinese and South Korean Stock Markets', 'Prediction and portfolio optimization in quantitative trading using machine learning techniques', 'Using neural networks for predicting futures contract prices of white maize in South Africa', 'Stock selection strategy based on support vector machine and extreme gradient boosting methods', 'Comparative analysis of time-series forecasting algorithms for stock price prediction', 'Predictive modeling of stock indexes using machine learning and information theory', 'Decision trees in stock market analysis: Construction and validation', 'Sentimental analysis of Chinese new social media for stock market information', 'Influence of news on individual confidence bias in stock markets', 'Real-time intelligent program stock trading', 'Development of a deep learning-LSTM trend prediction model of stock prices', 'Stock Volume Prediction Based on Polarity of Tweets, News, and Historical Data Using Deep Learning', 'Stock price forecasting by combining news mining and time series analysis', 'Stock market analysis using social networks', 'Dancing with Trump in the Stock Market', 'A sentiment analysis-based machine learning approach for financial market prediction via news disclosures', 'Temporal relational ranking for stock prediction', 'Effects of activation functions and optimizers on stock price prediction using LSTM recurrent networks', 'Price Forecast with High-Frequency Finance Data: An Autoregressive Recurrent Neural Network Model with Technical Indicators', 'Detecting, quantifying and accessing impact of news events on indian stock indices', 'An artificial neural network-based stock trading system using technical analysis and big data framework', 'An asynchronous advantage actor-critic reinforcement learning method for stock selection and portfolio management']\n"
     ]
    }
   ],
   "source": [
    "# initialize list of article in ACM digital library\n",
    "acm_digital_library_article_list = extract_pandasdf_column1_row_values_based_on_column2_value(filtered_article_name_source_name, \"ACM digital library\")"
   ]
  },
  {
   "cell_type": "code",
   "execution_count": 35,
   "id": "325b3f49",
   "metadata": {},
   "outputs": [],
   "source": [
    "# stable configuration\n",
    "ACM_DIGITAL_LIBRARY_SEARCH_SITE_LINK = \"https://dl-acm-org-christuniversity.knimbus.com/action/doSearch?AllField=\"\n",
    "ACM_DIGITAL_LIBRARY_FOLDER_PATH = \"/home/chaudharyubuntu/Desktop/systematic_review_python_code/Get_full_text/downloadedArticles/acmDigitalLibrary/\"\n",
    "# Path of Dynamic web element\n",
    "acm_digital_library_pdf_xpath = \"//i[@class='icon-pdf-file']\"\n",
    "knimbus_acm_digital_library_xpath = \"//a[@title='ACM Digital Library (ACM)']//img[@class='img-responsive ng-scope']\""
   ]
  },
  {
   "cell_type": "code",
   "execution_count": 117,
   "id": "06505eda",
   "metadata": {},
   "outputs": [],
   "source": [
    "# knimbus access to acm digital library\n",
    "click_on_button(\"xpath\", knimbus_acm_digital_library_xpath)"
   ]
  },
  {
   "cell_type": "code",
   "execution_count": null,
   "id": "cca27377",
   "metadata": {},
   "outputs": [],
   "source": [
    "new_index =  len(os.listdir(ACM_DIGITAL_LIBRARY_FOLDER_PATH))\n",
    "articles_gathering_loop(acm_digital_library_article_list[new_index:], ACM_DIGITAL_LIBRARY_SEARCH_SITE_LINK, \n",
    "                        acm_digital_library_pdf_xpath, DOWNLOAD_LOCATION, \n",
    "                        ACM_DIGITAL_LIBRARY_FOLDER_PATH)\n"
   ]
  },
  {
   "cell_type": "code",
   "execution_count": null,
   "id": "24ac0fd2",
   "metadata": {},
   "outputs": [],
   "source": [
    "# Manual way of automation\n",
    "scroll = True\n",
    "new_index = len(os.listdir(ACM_DIGITAL_LIBRARY_FOLDER_PATH))\n",
    "for article_name in acm_digital_library_article_list[new_index:]:\n",
    "        create_article_weblink_and_browse(ACM_DIGITAL_LIBRARY_SEARCH_SITE_LINK, article_name)\n",
    "        sleep_for_random_time()\n",
    "        if scroll == True:\n",
    "            scroll_page(400, 300)\n",
    "        click_on_button(\"xpath\", acm_digital_library_pdf_xpath)\n",
    "        sleep_for_random_time()\n",
    "        print(\"clicked on pdf button\")\n",
    "        file_rename_and_moving(article_name, DOWNLOAD_LOCATION, ACM_DIGITAL_LIBRARY_FOLDER_PATH) "
   ]
  },
  {
   "cell_type": "markdown",
   "id": "0c81a6b0",
   "metadata": {},
   "source": [
    "## IEEE xplore: Completed"
   ]
  },
  {
   "cell_type": "code",
   "execution_count": 36,
   "id": "7211482e",
   "metadata": {},
   "outputs": [],
   "source": [
    "# stable configuration\n",
    "KNIMBUS_IEEE_XPLORE_LINK_XPATH = \"/html/body/div/div/div[2]/div/div[1]/div[2]/div[2]/div/div/div/div[26]/div/a\"\n",
    "IEEE_XPLORE_SEARCH_ARTICLE_INITIAL = \"https://ieeexplore-ieee-org-christuniversity.knimbus.com/search/searchresult.jsp?newsearch=true&queryText=\"\n",
    "IEE_XPLORE_FOLDERPATH = \"/home/chaudharyubuntu/Desktop/systematic_review_python_code/Get_full_text/downloadedArticles/ieee xplore/\"\n",
    "# Path of Dynamic web element\n",
    "ieee_xplore_pdf_button_xpath = \"//i[@class='red-pdf fas fa-file-pdf']\""
   ]
  },
  {
   "cell_type": "code",
   "execution_count": 126,
   "id": "7b4b2289",
   "metadata": {},
   "outputs": [],
   "source": [
    "# knimbus ieee_xplore access link\n",
    "click_on_button(\"xpath\", KNIMBUS_IEEE_XPLORE_LINK_XPATH)"
   ]
  },
  {
   "cell_type": "code",
   "execution_count": 135,
   "id": "c47679de",
   "metadata": {},
   "outputs": [
    {
     "name": "stdout",
     "output_type": "stream",
     "text": [
      "['A Novel Improved Particle Swarm Optimization with Long-Short Term Memory Hybrid Model for Stock Indices Forecast', 'An efficient word embedding and deep learning based model to forecast the direction of stock exchange market using twitter and financial news sites: A case of istanbul stock exchange (BIST 100)', 'A Prediction Model of CNN-TLSTM for USD/CNY Exchange Rate Prediction', 'Stock market forecasting using deep learning and technical analysis: A systematic review', 'Integrated Long-Term Stock Selection Models Based on Feature Selection and Machine Learning Algorithms for China Stock Market', 'Stock market trend prediction using high-order information of time series', 'Adaptive partition intuitionistic fuzzy time series forecasting model', 'Detection of Financial Opportunities in Micro-Blogging Data with a Stacked Classification System', 'Predicting vehicle sales by sentiment analysis of twitter data and stock market values', 'Intelligent asset allocation via market sentiment views', 'Fractional-Order Memristive Predictor: Arbitrary-Order String Scaling Fracmemristor Based Prediction Model of Trading Price of Future', 'A Decision Support System for Trading in Apple Futures Market Using Predictions Fusion', 'Prediction-Based Portfolio Optimization Models Using Deep Neural Networks', 'Conditional Density Forecast of Electricity Price Based on Ensemble ELM and Logistic EMOS', 'TAIEX forecasting based on fuzzy time series and fuzzy variation groups', 'Detecting a Risk Signal in Stock Investment through Opinion Mining and Graph-Based Semi-Supervised Learning', 'Financial Market Sequence Prediction Based on Image Processing', 'ST-Trader: A Spatial-Temporal Deep Neural Network for Modeling Stock Market Movement', 'Stock volatility prediction by hybrid neural network', 'Equity Research Report-Driven Investment Strategy in Korea Using Binary Classification on Stock Price Direction', 'Stock Selection with a Novel Sigmoid-Based Mixed Discrete-Continuous Differential Evolution Algorithm', 'An AI Model for Oil Volatility Forecasting', 'Fractional neuro-sequential ARFIMA-LSTM for financial market forecasting', 'Gaussian Process Regression Stochastic Volatility Model for Financial Time Series', 'Forecasting Fluctuations in the Financial Index Using a Recurrent Neural Network Based on Price Features', 'Forward Forecast of Stock Price Using Sliding-Window Metaheuristic-Optimized Machine-Learning Regression', 'Automated trading point forecasting based on bicluster mining and fuzzy inference', 'Exchange Rate Volatility Forecasting by Hybrid Neural Network Markov Switching Beta-t-EGARCH', 'Interpretable Stock Anomaly Detection Based on Spatio-Temporal Relation Networks With Genetic Algorithm', 'Ensembling and Dynamic Asset Selection for Risk-Controlled Statistical Arbitrage', 'A Machine Learning-based Early Warning System for the Housing and Stock Markets', 'Financial Latent Dirichlet Allocation (FinLDA): Feature Extraction in Text and Data Mining for Financial Time Series Prediction', 'Modeling Stock Price Dynamics with Fuzzy Opinion Networks', 'TAIEX forecasting using fuzzy time series and automatically generated weights of multiple factors', 'Forecasting method of stock market volatility in time series data based on mixed model of ARIMA and XGBoost', 'An Adaptive Financial Trading System Using Deep Reinforcement Learning with Candlestick Decomposing Features', 'Forecasting Stock Market Indices Using Padding-based Fourier Transform Denoising and Time Series Deep Learning Models', 'Improving Financial Time Series Prediction Accuracy Using Ensemble Empirical Mode Decomposition and Recurrent Neural Networks', 'Which Artificial Intelligence Algorithm Better Predicts the Chinese Stock Market?', 'Ensemble Technique with Optimal Feature Selection for Saudi Stock Market Prediction: A Novel Hybrid Red Deer-Grey Algorithm', 'A stochastic HMM-based forecasting model for fuzzy time series', 'Predicting Stock Market Trends Using Machine Learning and Deep Learning Algorithms Via Continuous and Binary Data; A Comparative Analysis', 'Chaotic Type-2 Transient-Fuzzy Deep Neuro-Oscillatory Network (CT2TFDNN) for Worldwide Financial Prediction', 'Explainable Machine Learning Exploiting News and Domain-Specific Lexicon for Stock Market Forecasting', 'Mathematical Model of Yield Forecast Based on Long and Short-Term Memory Image Neural Network', 'DeepClue: Visual interpretation of text-based deep stock prediction', 'Evolving Possibilistic Fuzzy Modeling for Realized Volatility Forecasting with Jumps', 'Multiobjective Automated Type-2 Parsimonious Learning Machine to Forecast Time-Varying Stock Indices Online', 'A Dual-Attention-Based Stock Price Trend Prediction Model with Dual Features', 'Forecasting stock price based on frequency components by emd and neural networks', 'Forecasting Stock Prices Using a Hybrid Deep Learning Model Integrating Attention Mechanism, Multi-Layer Perceptron, and Bidirectional Long-Short Term Memory Neural Network', 'A Hybrid Approach of Bayesian Structural Time Series With LSTM to Identify the Influence of News Sentiment on Short-Term Forecasting of Stock Price', 'Stock Prediction Based on Genetic Algorithm Feature Selection and Long Short-Term Memory Neural Network', 'Machine Learning in Capital Markets: Decision Support System for Outcome Analysis', 'An Enriched Time-Series Forecasting Framework for Long-Short Portfolio Strategy', 'Stochastic neural networks for cryptocurrency price prediction', 'Fuzzy Decision Theory Based Metaheuristic Portfolio Optimization and Active Rebalancing Using Interval Type-2 Fuzzy Sets', 'Global stock market prediction based on stock chart images using deep q-network', 'A decision support approach for online stock forum sentiment analysis', 'Stock Forecasting Using Local Data', 'An Interval Type-2 Fuzzy Logic System for Stock Index Forecasting Based on Fuzzy Time Series and a Fuzzy Logical Relationship Map', 'Combining deep learning and multiresolution analysis for stock market forecasting']\n"
     ]
    },
    {
     "data": {
      "text/plain": [
       "61"
      ]
     },
     "execution_count": 135,
     "metadata": {},
     "output_type": "execute_result"
    }
   ],
   "source": [
    "# initialize list of article in ieee_xplore\n",
    "ieee_xplore_article_list = extract_pandasdf_column1_row_values_based_on_column2_value(filtered_article_name_source_name, \"IEEE xplore\")\n",
    "ieee_xplore_article_list.remove(\"A Dual-Attention-Based Stock Price Trend Prediction Model with Dual Features\")\n",
    "len(ieee_xplore_article_list)"
   ]
  },
  {
   "cell_type": "code",
   "execution_count": 147,
   "id": "79d296ef",
   "metadata": {},
   "outputs": [
    {
     "name": "stdout",
     "output_type": "stream",
     "text": [
      "trying to download article: Stock Forecasting Using Local Data\n",
      "Sleeping for 7.7\n",
      "Sleeping for 9.7\n",
      "file downloaded\n",
      "file renamed and moved\n",
      "trying to download article: An Interval Type-2 Fuzzy Logic System for Stock Index Forecasting Based on Fuzzy Time Series and a Fuzzy Logical Relationship Map\n",
      "Sleeping for 11.3\n",
      "Sleeping for 9.3\n",
      "file downloaded\n",
      "file renamed and moved\n",
      "trying to download article: Combining deep learning and multiresolution analysis for stock market forecasting\n",
      "Sleeping for 11.4\n",
      "Sleeping for 8.2\n",
      "file downloaded\n",
      "file renamed and moved\n"
     ]
    }
   ],
   "source": [
    "new_index =  len(os.listdir(IEE_XPLORE_FOLDERPATH))\n",
    "articles_gathering_loop(ieee_xplore_article_list[new_index:], IEEE_XPLORE_SEARCH_ARTICLE_INITIAL, ieee_xplore_pdf_button_xpath, DOWNLOAD_LOCATION, IEE_XPLORE_FOLDERPATH, scroll = True, open_button = True)        \n"
   ]
  },
  {
   "cell_type": "code",
   "execution_count": null,
   "id": "2842c2a7",
   "metadata": {},
   "outputs": [],
   "source": [
    "click_on_button(\"xpath\", \"//span[contains(text(),'PDF')]\")"
   ]
  },
  {
   "cell_type": "code",
   "execution_count": 146,
   "id": "eb24eb8c",
   "metadata": {},
   "outputs": [
    {
     "name": "stdout",
     "output_type": "stream",
     "text": [
      "file renamed and moved\n"
     ]
    }
   ],
   "source": [
    "article_index = len(os.listdir(IEE_XPLORE_FOLDERPATH))\n",
    "manual_filename = str(ieee_xplore_article_list[article_index])\n",
    "file_rename_and_moving(manual_filename, DOWNLOAD_LOCATION, IEE_XPLORE_FOLDERPATH)"
   ]
  },
  {
   "cell_type": "code",
   "execution_count": null,
   "id": "21b28c88",
   "metadata": {},
   "outputs": [],
   "source": [
    "ieee_xplore_article_list[20]"
   ]
  },
  {
   "cell_type": "code",
   "execution_count": 148,
   "id": "bd483fb2",
   "metadata": {},
   "outputs": [
    {
     "data": {
      "text/plain": [
       "61"
      ]
     },
     "execution_count": 148,
     "metadata": {},
     "output_type": "execute_result"
    }
   ],
   "source": [
    "len(os.listdir(IEE_XPLORE_FOLDERPATH))"
   ]
  },
  {
   "cell_type": "code",
   "execution_count": null,
   "id": "9e947ab4",
   "metadata": {},
   "outputs": [],
   "source": [
    "open_pdf_button_link = get_link_via_regex()\n",
    "driver.get(open_pdf_button_link)"
   ]
  },
  {
   "cell_type": "code",
   "execution_count": 140,
   "id": "a9b1219e",
   "metadata": {},
   "outputs": [
    {
     "data": {
      "text/plain": [
       "61"
      ]
     },
     "execution_count": 140,
     "metadata": {},
     "output_type": "execute_result"
    }
   ],
   "source": [
    "len(ieee_xplore_article_list)"
   ]
  },
  {
   "cell_type": "markdown",
   "id": "64195b23",
   "metadata": {},
   "source": [
    "## Arxiv from API\n",
    "Thank you for reaching out regarding your questions related to full text search. At this time there is no API built around full text search in arXiv, nor any mechanism to dump full text into some sort of machine readable export. The only facilities around bulk access are explained here:\n",
    "\n",
    "[1]https://arxiv.org/help/bulk_data\n",
    "\n",
    "noting also that the API have a [2]Terms of Use, as well.\n",
    "\n",
    "Regards,\n",
    "The arXiv Content Management &amp; User Support Team\n",
    "----------------------------------------------------------------------------------------\n",
    "[1] https://arxiv.org/help/bulk_data\n",
    "[2] https://arxiv.org/help/api/tou"
   ]
  },
  {
   "cell_type": "code",
   "execution_count": 58,
   "id": "66f6ff4d",
   "metadata": {},
   "outputs": [
    {
     "name": "stdout",
     "output_type": "stream",
     "text": [
      "['Capturing dynamics of post-earnings-announcement drift using a genetic algorithm-optimized XGBoost', 'A survey of forex and stock price prediction using deep learning', 'A Stochastic Time Series Model for Predicting Financial Trends using NLP', 'Deep learning for stock market prediction', 'RIC-NN: A robust transferable deep learning framework for cross-sectional investment strategy', 'Deep Recurrent Factor Model: Interpretable Non-Linear and Time-Varying Multi-Factor Model', 'Reinforcement-Learning Based Portfolio Management with Augmented Asset Movement Prediction States', 'Stock Market Forecasting Based on Text Mining Technology: A Support Vector Machine Method', 'Evaluating the Performance of ANN Prediction System at Shanghai Stock Market in the Period 21-Sep-2016 to 11-Oct-2016', 'Machine Learning Algorithms for Financial Asset Price Forecasting', 'When Bots Take Over the Stock Market: Evasion Attacks Against Algorithmic Traders', 'Model-based Reinforcement Learning for Predictions and Control for Limit Order Books', 'Listening to chaotic whispers: A deep learning framework for news-oriented Stock trend prediction', 'A Novel Twitter Sentiment Analysis Model with Baseline Correlation for Financial Market Prediction with Improved Efficiency', 'Deep Learning can Replicate Adaptive Traders in a Limit-Order-Book Financial Market', 'Sparse Index Tracking Based On $L_{1/2}$ Model And Algorithm', 'Forecasting directional movements of stock prices for intraday trading using LSTM and random forests', 'Global stock market prediction based on stock chart images using deep q-network', 'Comparative study of Financial Time Series Prediction by Artificial Neural Network with Gradient Descent Learning', 'A novel improved fuzzy support vector machine based stock price trend forecast model', 'Multi Task Learning for Financial Forecasting', 'Deep factor model: Explaining deep learning decisions for forecasting stock returns with layer-wise relevance propagation', 'Predictive intraday correlations in stable and volatile market environments: Evidence from deep learning', 'A tensor-based sub-mode coordinate algorithm for stock prediction', 'Time-varying neural network for stock return prediction', 'Predicting Indian Stock Market Using the Psycho-Linguistic Features of Financial News', 'Decision support from financial disclosures with deep neural networks and transfer learning', 'Discrete Wavelet Transform-Based Prediction of Stock Index: A Study on National Stock Exchange Fifty Index', 'Financial Market Directional Forecasting With Stacked Denoising Autoencoder', 'Predicting intraday jumps in stock prices using liquidity measures and technical indicators', 'Using Twitter Attribute Information to Predict Stock Prices', 'A Novel Ensemble Deep Learning Model for Stock Prediction Based on Stock Prices and News', 'Stock market microstructure inference via multi-agent reinforcement learning', 'Stock price formation: useful insights from a multi-agent reinforcement learning model', 'Performance Analysis of Hybrid Forecasting Model in Stock Market Forecasting', 'Predicting the direction of stock market prices using random forest', 'Stock volatility prediction using recurrent neural networks with sentiment analysis', 'Stock Prices Prediction using Deep Learning Models', 'Sanction or Financial Crisis? An Artificial Neural Network-Based Approach to model the impact of oil price volatility on Stock and industry indices', 'Improved Accuracy of PSO and DE using Normalization: an Application to Stock Price Prediction', 'Lagged correlation-based deep learning for directional trend change prediction in financial time series', 'Towards Earnings Call and Stock Price Movement', 'Stock Price Prediction Using Convolutional Neural Networks on a Multivariate Timeseries', 'Multiple-output support vector regression with a firefly algorithm for interval-valued stock price index forecasting', 'Using Deep Learning Neural Networks and Candlestick Chart Representation to Predict Stock Market', 'Variety and volatility in financial markets', 'Deep Learning for Stock Selection Based on High Frequency Price-Volume Data', 'Risk Management via Anomaly Circumvent: Mnemonic Deep Learning for Midterm Stock Prediction', 'Neural Network Models for Stock Selection Based on Fundamental Analysis', 'DoubleEnsemble: A new ensemble method based on sample reweighting and feature selection for financial data analysis', 'Modeling Financial Time Series using LSTM with Trainable Initial Hidden States', 'Text mining of stocktwits data for predicting stock prices', 'DP-LSTM: Differential Privacy-inspired LSTM for Stock Prediction Using Financial News', 'Stock Price Prediction Using Machine Learning and LSTM-Based Deep Learning Models', 'Analysis and Forecasting of Financial Time Series Using CNN and LSTM-Based Deep Learning Models', 'A Robust Predictive Model for Stock Price Prediction Using Deep Learning and Natural Language Processing', 'A Time Series Analysis-Based Stock Price Prediction Using Machine Learning and Deep Learning Models', 'Ascertaining price formation in cryptocurrency markets with machine learning', 'A macroscopic portfolio model: from rational agents to bounded rationality', 'Hybrid symbiotic organisms search feedforward neural network model for stock price prediction', 'A network analysis of the volatility of high dimensional financial series', 'Using Machine Learning and Alternative Data to Predict Movements in Market Risk', 'Neural networks for stock price prediction', 'Stochastic Volatility Models', 'Discovering Stock Price Prediction Rules of Bombay Stock Exchange Using Rough Fuzzy Multi Layer Perception Networks', 'Ensemble Committees for Stock Return Classification and Prediction', 'Working Paper: Improved Stock Price Forecasting Algorithm based on Feature-weighed Support Vector Regression by using Grey Correlation Degree', 'Forecasting open-high-low-close data contained in candlestick chart', 'Benchmarking Deep Sequential Models on Volatility Predictions for Financial Time Series', 'Asset Price Forecasting using Recurrent Neural Networks', 'Financial trading model with stock bar chart image time series with deep convolutional neural networks', 'Feature learning for stock price prediction shows a significant role of analyst rating', 'High-performance stock index trading: making effective use of a deep LSTM neural network', 'Enhancing stock market prediction with extended coupled hidden Markov model over multi-sourced data', 'An artificial neural network-based stock trading system using technical analysis and big data framework', 'Modeling Stock Price Dynamics with Fuzzy Opinion Networks', 'Profitability Analysis in Stock Investment Using an LSTM-Based Deep Learning Model', 'Universal features of price formation in financial markets: perspectives from deep learning', 'Share Price Prediction of Aerospace Relevant Companies with Recurrent Neural Networks based on PCA', 'Forecasting Stock Time-Series using Data Approximation and Pattern Sequence Similarity', 'Stochastic Volatility in a Quantitative Model of Stock Market Returns', 'Stock Price Correlation Coefficient Prediction with ARIMA-LSTM Hybrid Model', 'A Stock Selection Method Based on Earning Yield Forecast Using Sequence Prediction Models', 'Predicting the Stock Price of Frontier Markets Using Modified Black-Scholes Option Pricing Model and Machine Learning', 'Dynamic Advisor-Based Ensemble (DYNABE): Case study in stock trend prediction of critical metal companies', 'Absolute Value Constraint : The Reason for Invalid Performance Evaluation Results of Neural Network Models for Stock Price Prediction', 'Deep learning for forecasting stock returns in the cross-section', 'Temporal relational ranking for stock prediction', \"Designing an optimal portfolio for iran's stock market with genetic algorithm using neural network prediction of risk and return stocks\", 'Stock Forecasting Using M-Band Wavelet-Based SVR and RNN-LSTMs Models', 'Convolutional feature extraction and neural arithmetic logic units for stock prediction', 'Portfolio optimization and model predictive control: A kinetic approach', 'The predictive power of zero intelligence in financial markets', 'Stock Index Prediction with Multi-task Learning and Word Polarity Over Time', 'The Comparison of Methods Artificial Neural Network with Linear Regression Using Specific Variables for Prediction Stock Price in Tehran Stock Exchange', 'Modeling Chaotic Behavior of Stock Indices Using Intelligent Paradigms', 'The FFBS Estimation of High Dimensional Panel Data Factor Stochastic Volatility Models', 'Deep Kernel Gaussian Process Based Financial Market Predictions', 'The LOB Recreation Model: Predicting the Limit Order Book from TAQ History Using an Ordinary Differential Equation Recurrent Neural Network', 'Macroeconomic Forecasting and Variable Selection with a Very Large Number of Predictors: A Penalized Regression Approach', 'COVID19-HPSMP: COVID-19 Adopted Hybrid and Parallel Deep Information Fusion Framework for Stock Price Movement Prediction', 'Image Processing Tools for Financial Time Series Classification']\n"
     ]
    }
   ],
   "source": [
    "# initialize list of article in arxiv\n",
    "arxiv_article_list = extract_pandasdf_column1_row_values_based_on_column2_value(filtered_article_name_source_name, \"Arxiv\")"
   ]
  },
  {
   "cell_type": "code",
   "execution_count": 82,
   "id": "a3b9bd43",
   "metadata": {},
   "outputs": [],
   "source": [
    "# Stable configuration\n",
    "ARXIV_WEB_LINK = \"https://arxiv.org/\"\n",
    "ARXIV_FOLDERPATH = \"/home/chaudharyubuntu/Desktop/systematic_review_python_code/Get_full_text/downloadedArticles/arxiv\"\n",
    "# Path of Dynamic web element\n",
    "arxiv_search_inputbox_xpath = \"//input[@class='input is-small']\"\n",
    "arxiv_search_button_xpath = \"//button[normalize-space()='Search']\"\n",
    "arxiv_pdf_button_xpath = \"//a[normalize-space()='pdf']\""
   ]
  },
  {
   "cell_type": "code",
   "execution_count": 419,
   "id": "cd2a5fdc",
   "metadata": {},
   "outputs": [
    {
     "name": "stdout",
     "output_type": "stream",
     "text": [
      "trying to download: A Robust Predictive Model for Stock Price Prediction Using Deep Learning and Natural Language Processing\n",
      "Sleeping for 6.3\n",
      "Sleeping for 6.0\n",
      "file renamed and moved\n",
      "trying to download: A Time Series Analysis-Based Stock Price Prediction Using Machine Learning and Deep Learning Models\n",
      "Sleeping for 11.3\n",
      "Sleeping for 5.0\n",
      "file renamed and moved\n",
      "trying to download: Ascertaining price formation in cryptocurrency markets with machine learning\n",
      "Sleeping for 12.4\n",
      "Sleeping for 12.0\n",
      "file renamed and moved\n",
      "trying to download: A macroscopic portfolio model: from rational agents to bounded rationality\n",
      "Sleeping for 12.0\n",
      "Sleeping for 7.0\n",
      "file renamed and moved\n",
      "trying to download: Hybrid symbiotic organisms search feedforward neural network model for stock price prediction\n",
      "Sleeping for 11.7\n",
      "Sleeping for 14.8\n",
      "file renamed and moved\n",
      "trying to download: A network analysis of the volatility of high dimensional financial series\n",
      "Sleeping for 11.9\n",
      "Sleeping for 13.2\n",
      "file renamed and moved\n",
      "trying to download: Using Machine Learning and Alternative Data to Predict Movements in Market Risk\n",
      "Sleeping for 12.4\n",
      "Sleeping for 9.9\n",
      "file renamed and moved\n",
      "trying to download: Neural networks for stock price prediction\n",
      "Sleeping for 9.7\n",
      "Sleeping for 10.8\n",
      "file renamed and moved\n",
      "trying to download: Stochastic Volatility Models\n",
      "Sleeping for 9.9\n",
      "Sleeping for 5.3\n",
      "file renamed and moved\n",
      "trying to download: Discovering Stock Price Prediction Rules of Bombay Stock Exchange Using Rough Fuzzy Multi Layer Perception Networks\n",
      "Sleeping for 7.7\n",
      "Sleeping for 6.7\n",
      "file renamed and moved\n",
      "trying to download: Ensemble Committees for Stock Return Classification and Prediction\n",
      "Sleeping for 6.9\n",
      "Sleeping for 9.6\n",
      "file renamed and moved\n",
      "trying to download: Working Paper: Improved Stock Price Forecasting Algorithm based on Feature-weighed Support Vector Regression by using Grey Correlation Degree\n",
      "Sleeping for 7.7\n",
      "Sleeping for 5.2\n",
      "file renamed and moved\n",
      "trying to download: Forecasting open-high-low-close data contained in candlestick chart\n",
      "Sleeping for 14.9\n",
      "Sleeping for 13.5\n",
      "file renamed and moved\n",
      "trying to download: Benchmarking Deep Sequential Models on Volatility Predictions for Financial Time Series\n",
      "Sleeping for 6.0\n",
      "Sleeping for 9.0\n",
      "file renamed and moved\n",
      "trying to download: Asset Price Forecasting using Recurrent Neural Networks\n",
      "Sleeping for 6.5\n",
      "Sleeping for 11.4\n",
      "file renamed and moved\n",
      "trying to download: Financial trading model with stock bar chart image time series with deep convolutional neural networks\n",
      "Sleeping for 11.3\n",
      "Sleeping for 14.6\n",
      "file renamed and moved\n",
      "trying to download: Feature learning for stock price prediction shows a significant role of analyst rating\n",
      "Sleeping for 5.1\n",
      "Sleeping for 8.4\n",
      "file renamed and moved\n",
      "trying to download: High-performance stock index trading: making effective use of a deep LSTM neural network\n",
      "Sleeping for 8.8\n",
      "Sleeping for 5.8\n",
      "file renamed and moved\n",
      "trying to download: Enhancing stock market prediction with extended coupled hidden Markov model over multi-sourced data\n",
      "Sleeping for 11.5\n",
      "Sleeping for 5.1\n",
      "file renamed and moved\n",
      "trying to download: An artificial neural network-based stock trading system using technical analysis and big data framework\n",
      "Sleeping for 11.8\n",
      "Sleeping for 5.5\n",
      "file renamed and moved\n",
      "trying to download: Modeling Stock Price Dynamics with Fuzzy Opinion Networks\n",
      "Sleeping for 14.1\n",
      "Sleeping for 5.3\n",
      "file renamed and moved\n",
      "trying to download: Profitability Analysis in Stock Investment Using an LSTM-Based Deep Learning Model\n",
      "Sleeping for 11.4\n",
      "Sleeping for 9.6\n",
      "file renamed and moved\n",
      "trying to download: Universal features of price formation in financial markets: perspectives from deep learning\n",
      "Sleeping for 5.8\n",
      "Sleeping for 13.5\n",
      "file renamed and moved\n",
      "trying to download: Share Price Prediction of Aerospace Relevant Companies with Recurrent Neural Networks based on PCA\n",
      "Sleeping for 5.6\n",
      "Sleeping for 6.3\n",
      "file renamed and moved\n",
      "trying to download: Forecasting Stock Time-Series using Data Approximation and Pattern Sequence Similarity\n",
      "Sleeping for 14.3\n",
      "Sleeping for 10.2\n",
      "file renamed and moved\n",
      "trying to download: Stochastic Volatility in a Quantitative Model of Stock Market Returns\n",
      "Sleeping for 12.7\n",
      "Sleeping for 11.9\n",
      "file renamed and moved\n",
      "trying to download: Stock Price Correlation Coefficient Prediction with ARIMA-LSTM Hybrid Model\n",
      "Sleeping for 14.5\n",
      "Sleeping for 8.8\n",
      "file renamed and moved\n",
      "trying to download: A Stock Selection Method Based on Earning Yield Forecast Using Sequence Prediction Models\n",
      "Sleeping for 11.6\n",
      "Sleeping for 11.6\n",
      "file renamed and moved\n",
      "trying to download: Predicting the Stock Price of Frontier Markets Using Modified Black-Scholes Option Pricing Model and Machine Learning\n",
      "Sleeping for 10.6\n",
      "Sleeping for 8.6\n",
      "file renamed and moved\n",
      "trying to download: Dynamic Advisor-Based Ensemble (DYNABE): Case study in stock trend prediction of critical metal companies\n",
      "Sleeping for 10.2\n",
      "Sleeping for 10.7\n",
      "file renamed and moved\n",
      "trying to download: Absolute Value Constraint : The Reason for Invalid Performance Evaluation Results of Neural Network Models for Stock Price Prediction\n",
      "Sleeping for 13.3\n",
      "Sleeping for 14.0\n",
      "file renamed and moved\n",
      "trying to download: Deep learning for forecasting stock returns in the cross-section\n",
      "Sleeping for 6.7\n",
      "Sleeping for 13.7\n",
      "file renamed and moved\n",
      "trying to download: Temporal relational ranking for stock prediction\n",
      "Sleeping for 12.1\n",
      "Sleeping for 14.0\n",
      "file renamed and moved\n",
      "trying to download: Designing an optimal portfolio for iran's stock market with genetic algorithm using neural network prediction of risk and return stocks\n",
      "Sleeping for 14.3\n",
      "Sleeping for 13.9\n",
      "file renamed and moved\n",
      "trying to download: Stock Forecasting Using M-Band Wavelet-Based SVR and RNN-LSTMs Models\n",
      "Sleeping for 14.7\n",
      "Sleeping for 10.8\n",
      "file renamed and moved\n",
      "trying to download: Convolutional feature extraction and neural arithmetic logic units for stock prediction\n",
      "Sleeping for 8.3\n",
      "Sleeping for 14.6\n",
      "file renamed and moved\n",
      "trying to download: Portfolio optimization and model predictive control: A kinetic approach\n",
      "Sleeping for 14.3\n",
      "Sleeping for 12.0\n",
      "file renamed and moved\n",
      "trying to download: The predictive power of zero intelligence in financial markets\n",
      "Sleeping for 6.3\n",
      "Sleeping for 14.7\n",
      "file renamed and moved\n",
      "trying to download: Stock Index Prediction with Multi-task Learning and Word Polarity Over Time\n",
      "Sleeping for 7.3\n",
      "Sleeping for 10.9\n",
      "file renamed and moved\n",
      "trying to download: The Comparison of Methods Artificial Neural Network with Linear Regression Using Specific Variables for Prediction Stock Price in Tehran Stock Exchange\n",
      "Sleeping for 13.4\n",
      "Sleeping for 8.1\n",
      "file renamed and moved\n",
      "trying to download: Modeling Chaotic Behavior of Stock Indices Using Intelligent Paradigms\n",
      "Sleeping for 12.0\n",
      "Sleeping for 6.2\n",
      "file renamed and moved\n",
      "trying to download: The FFBS Estimation of High Dimensional Panel Data Factor Stochastic Volatility Models\n",
      "Sleeping for 12.6\n",
      "Sleeping for 7.5\n",
      "file renamed and moved\n",
      "trying to download: Deep Kernel Gaussian Process Based Financial Market Predictions\n",
      "Sleeping for 12.9\n",
      "Sleeping for 10.3\n",
      "file renamed and moved\n",
      "trying to download: The LOB Recreation Model: Predicting the Limit Order Book from TAQ History Using an Ordinary Differential Equation Recurrent Neural Network\n",
      "Sleeping for 12.3\n",
      "Sleeping for 12.7\n",
      "file renamed and moved\n",
      "trying to download: Macroeconomic Forecasting and Variable Selection with a Very Large Number of Predictors: A Penalized Regression Approach\n",
      "Sleeping for 14.4\n",
      "Sleeping for 8.5\n",
      "file renamed and moved\n",
      "trying to download: COVID19-HPSMP: COVID-19 Adopted Hybrid and Parallel Deep Information Fusion Framework for Stock Price Movement Prediction\n",
      "Sleeping for 9.4\n",
      "Sleeping for 7.5\n",
      "file renamed and moved\n",
      "trying to download: Image Processing Tools for Financial Time Series Classification\n",
      "Sleeping for 7.8\n"
     ]
    },
    {
     "ename": "KeyboardInterrupt",
     "evalue": "",
     "output_type": "error",
     "traceback": [
      "\u001b[0;31m---------------------------------------------------------------------------\u001b[0m",
      "\u001b[0;31mKeyboardInterrupt\u001b[0m                         Traceback (most recent call last)",
      "\u001b[0;32m<ipython-input-419-c3aeeac2633d>\u001b[0m in \u001b[0;36m<module>\u001b[0;34m\u001b[0m\n\u001b[1;32m      3\u001b[0m     \u001b[0mprint\u001b[0m\u001b[0;34m(\u001b[0m\u001b[0;34mf\"trying to download: {article_name}\"\u001b[0m\u001b[0;34m)\u001b[0m\u001b[0;34m\u001b[0m\u001b[0;34m\u001b[0m\u001b[0m\n\u001b[1;32m      4\u001b[0m     \u001b[0mwrite_in_inputbox\u001b[0m\u001b[0;34m(\u001b[0m\u001b[0;34m\"xpath\"\u001b[0m\u001b[0;34m,\u001b[0m \u001b[0marxiv_search_inputbox_xpath\u001b[0m\u001b[0;34m,\u001b[0m \u001b[0marticle_name\u001b[0m\u001b[0;34m)\u001b[0m\u001b[0;34m\u001b[0m\u001b[0;34m\u001b[0m\u001b[0m\n\u001b[0;32m----> 5\u001b[0;31m     \u001b[0msleep_for_random_time\u001b[0m\u001b[0;34m(\u001b[0m\u001b[0;34m)\u001b[0m\u001b[0;34m\u001b[0m\u001b[0;34m\u001b[0m\u001b[0m\n\u001b[0m\u001b[1;32m      6\u001b[0m     \u001b[0mclick_on_button\u001b[0m\u001b[0;34m(\u001b[0m\u001b[0;34m\"xpath\"\u001b[0m\u001b[0;34m,\u001b[0m \u001b[0marxiv_search_button_xpath\u001b[0m\u001b[0;34m)\u001b[0m\u001b[0;34m\u001b[0m\u001b[0;34m\u001b[0m\u001b[0m\n\u001b[1;32m      7\u001b[0m     \u001b[0msleep_for_random_time\u001b[0m\u001b[0;34m(\u001b[0m\u001b[0;34m)\u001b[0m\u001b[0;34m\u001b[0m\u001b[0;34m\u001b[0m\u001b[0m\n",
      "\u001b[0;32m<ipython-input-403-d35b4a5ce471>\u001b[0m in \u001b[0;36msleep_for_random_time\u001b[0;34m(lower_time_limit, upper_time_limit)\u001b[0m\n\u001b[1;32m     26\u001b[0m     \u001b[0mTime\u001b[0m \u001b[0;34m=\u001b[0m \u001b[0mrandom_time\u001b[0m\u001b[0;34m(\u001b[0m\u001b[0mlower_time_limit\u001b[0m\u001b[0;34m,\u001b[0m \u001b[0mupper_time_limit\u001b[0m\u001b[0;34m)\u001b[0m\u001b[0;34m\u001b[0m\u001b[0;34m\u001b[0m\u001b[0m\n\u001b[1;32m     27\u001b[0m     \u001b[0mprint\u001b[0m\u001b[0;34m(\u001b[0m\u001b[0;34mf\"Sleeping for {round(Time, 1)}\"\u001b[0m\u001b[0;34m)\u001b[0m\u001b[0;34m\u001b[0m\u001b[0;34m\u001b[0m\u001b[0m\n\u001b[0;32m---> 28\u001b[0;31m     \u001b[0mtime\u001b[0m\u001b[0;34m.\u001b[0m\u001b[0msleep\u001b[0m\u001b[0;34m(\u001b[0m\u001b[0mTime\u001b[0m\u001b[0;34m)\u001b[0m\u001b[0;34m\u001b[0m\u001b[0;34m\u001b[0m\u001b[0m\n\u001b[0m\u001b[1;32m     29\u001b[0m \u001b[0;34m\u001b[0m\u001b[0m\n\u001b[1;32m     30\u001b[0m \u001b[0;34m\u001b[0m\u001b[0m\n",
      "\u001b[0;31mKeyboardInterrupt\u001b[0m: "
     ]
    }
   ],
   "source": [
    "#article_index = len(os.listdir(ARXIV_FOLDERPATH))\n",
    "for article_name in arxiv_article_list[55:]:\n",
    "    print(f\"trying to download: {article_name}\")\n",
    "    write_in_inputbox(\"xpath\", arxiv_search_inputbox_xpath, article_name)\n",
    "    sleep_for_random_time()\n",
    "    click_on_button(\"xpath\", arxiv_search_button_xpath)\n",
    "    sleep_for_random_time()\n",
    "    click_on_button(\"xpath\", arxiv_pdf_button_xpath)\n",
    "    file_rename_and_moving(article_name, DOWNLOAD_LOCATION, ARXIV_FOLDERPATH)"
   ]
  },
  {
   "cell_type": "code",
   "execution_count": 83,
   "id": "7b739c3a",
   "metadata": {},
   "outputs": [],
   "source": [
    "driver.get(ARXIV_WEB_LINK)"
   ]
  },
  {
   "cell_type": "code",
   "execution_count": 160,
   "id": "1ce7aceb",
   "metadata": {},
   "outputs": [],
   "source": [
    "article_index = len(os.listdir(ARXIV_FOLDERPATH))\n",
    "write_in_inputbox(\"xpath\", arxiv_search_inputbox_xpath, arxiv_article_list[article_index])"
   ]
  },
  {
   "cell_type": "code",
   "execution_count": 161,
   "id": "084edc81",
   "metadata": {},
   "outputs": [],
   "source": [
    "click_on_button(\"xpath\", arxiv_search_button_xpath)"
   ]
  },
  {
   "cell_type": "code",
   "execution_count": 191,
   "id": "24fe921c",
   "metadata": {},
   "outputs": [],
   "source": [
    "click_on_button(\"xpath\", arxiv_pdf_button_xpath)"
   ]
  },
  {
   "cell_type": "code",
   "execution_count": 192,
   "id": "101a3d54",
   "metadata": {},
   "outputs": [
    {
     "name": "stdout",
     "output_type": "stream",
     "text": [
      "file renamed and moved\n"
     ]
    }
   ],
   "source": [
    "article_index = len(os.listdir(ARXIV_FOLDERPATH))\n",
    "manual_filename = str(arxiv_article_list[article_index-1])\n",
    "file_rename_and_moving(manual_filename, DOWNLOAD_LOCATION, ARXIV_FOLDERPATH)"
   ]
  },
  {
   "cell_type": "code",
   "execution_count": 418,
   "id": "297d453c",
   "metadata": {},
   "outputs": [
    {
     "name": "stdout",
     "output_type": "stream",
     "text": [
      "50\n"
     ]
    },
    {
     "data": {
      "text/plain": [
       "'Analysis and Forecasting of Financial Time Series Using CNN and LSTM-Based Deep Learning Models'"
      ]
     },
     "execution_count": 418,
     "metadata": {},
     "output_type": "execute_result"
    }
   ],
   "source": [
    "article_index = len(os.listdir(ARXIV_FOLDERPATH))\n",
    "arxiv_article_list[article_index-1]\n",
    "print(article_index)\n",
    "arxiv_article_list[54]"
   ]
  },
  {
   "cell_type": "code",
   "execution_count": 15,
   "id": "6f85fa8c",
   "metadata": {},
   "outputs": [
    {
     "data": {
      "text/plain": [
       "101"
      ]
     },
     "execution_count": 15,
     "metadata": {},
     "output_type": "execute_result"
    }
   ],
   "source": [
    "arxiv_article_list.index(\"Image Processing Tools for Financial Time Series Classification\")"
   ]
  },
  {
   "cell_type": "markdown",
   "id": "c82b0228",
   "metadata": {},
   "source": [
    "## MDPI web automation: Completed"
   ]
  },
  {
   "cell_type": "code",
   "execution_count": 207,
   "id": "ee947f91",
   "metadata": {},
   "outputs": [
    {
     "name": "stdout",
     "output_type": "stream",
     "text": [
      "['A study concerning soft computing approaches for stock price forecasting', 'The asymptotic decision scenarios of an emerging stock exchange market: Extreme value theory and artificial neural network', 'An improved probabilistic neural network model for directional prediction of a stock market index', 'Predicting the trend of stock market index using the hybrid neural network based on multiple time scale feature learning', 'A machine learning view on momentum and reversal trading', 'New Dataset for Forecasting Realized Volatility: Is the Tokyo Stock Exchange Co-Location Dataset Helpful for Expansion of the Heterogeneous Autoregressive Model in the Japanese Stock Market?', 'Jump aggregation, volatility prediction, and nonlinear estimation of banks’ sustainability risk', 'Portfolio optimization-based stock prediction using long-short term memory network in quantitative trading', 'Stock volume dependency of forest drought responses in Yunnan, China', 'Exploring the initial impact of COVID-19 sentiment on US stock market using big data', 'The application of stock index price prediction with neural network', 'Deep LSTM with reinforcement learning layer for financial trend prediction in FX high frequency trading systems', 'A robust regression-based stock exchange forecasting and determination of correlation between stock markets', 'A novel hybrid model for stock price forecasting based on metaheuristics and support vector machine', 'Forecasting economic recession through share price in the logistics industry with artificial intelligence (AI)', 'Forecasting based on high-order fuzzy-fluctuation trends and particle swarm optimization machine learning', 'A forecasting model based on multi-valued neutrosophic sets and two-factor, third-order fuzzy fluctuation logical relationships', 'Important trading point prediction using a hybrid convolutional recurrent neural network', 'A Quick Gbest Guided Artificial Bee Colony algorithm for stock market prices prediction', 'Importance of event binary features in stock price prediction', 'Text mining of stocktwits data for predicting stock prices', 'Hybrid corporate performance prediction model considering technical capability', 'Price movement prediction of cryptocurrencies using sentiment analysis and machine learning', 'Using the entire yield curve in forecasting output and inflation', 'Forecasting the stock market with linguistic rules generated from the minimize entropy principle and the cumulative probability distribution approaches', 'A two-factor autoregressive moving average model based on fuzzy fluctuation logical relationships', 'A multifactor fuzzy time-series fitting model for forecasting the stock index', 'Deep learning for stock market prediction', 'Prediction of stock performance using deep neural networks', 'Application of cloud model in qualitative forecasting for stock market trends', 'Volatility forecasting for high-frequency financial data based on web search index and deep learning model', 'Examination and Modification of Multi-Factor Model in Explaining Stock Excess Return with Hybrid Approach in Empirical Study of Chinese Stock Market', 'Feature learning for stock price prediction shows a significant role of analyst rating', 'A hybrid method based on extreme learning machine and wavelet transform denoising for stock prediction', 'A Random Forests Approach to Predicting Clean Energy Stock Prices']\n"
     ]
    }
   ],
   "source": [
    "# initialize list of article in MDPI\n",
    "mdpi_article_list = extract_pandasdf_column1_row_values_based_on_column2_value(filtered_article_name_source_name, \"MDPI\")"
   ]
  },
  {
   "cell_type": "code",
   "execution_count": 38,
   "id": "09749157",
   "metadata": {},
   "outputs": [],
   "source": [
    "# Stable configuration\n",
    "MDPI_WEB_LINK = \"https://www.mdpi.com/\"\n",
    "MDPI_FOLDERPATH = \"/home/chaudharyubuntu/Desktop/systematic_review_python_code/Get_full_text/downloadedArticles/mdpi\"\n",
    "# Path of Dynamic web element\n",
    "mdpi_search_inputbox_xpath = \"//input[@placeholder='Title / Keyword']\"\n",
    "mdpi_search_button_xpath = \"//input[@id='search']\"\n",
    "mdpi_pdf_button_xpath = \"//a[@title='Article PDF']//i[@class='material-icons']\""
   ]
  },
  {
   "cell_type": "code",
   "execution_count": 231,
   "id": "82d6e269",
   "metadata": {},
   "outputs": [],
   "source": [
    "driver.get(MDPI_WEB_LINK)"
   ]
  },
  {
   "cell_type": "code",
   "execution_count": 239,
   "id": "96cff93c",
   "metadata": {},
   "outputs": [
    {
     "name": "stdout",
     "output_type": "stream",
     "text": [
      "trying to download: An improved probabilistic neural network model for directional prediction of a stock market index\n",
      "Sleeping for 6.4\n",
      "Sleeping for 11.3\n",
      "file renamed and moved\n",
      "trying to download: Predicting the trend of stock market index using the hybrid neural network based on multiple time scale feature learning\n",
      "Sleeping for 7.8\n",
      "Sleeping for 12.4\n",
      "file renamed and moved\n",
      "trying to download: A machine learning view on momentum and reversal trading\n",
      "Sleeping for 8.8\n",
      "Sleeping for 10.2\n",
      "file renamed and moved\n",
      "trying to download: New Dataset for Forecasting Realized Volatility: Is the Tokyo Stock Exchange Co-Location Dataset Helpful for Expansion of the Heterogeneous Autoregressive Model in the Japanese Stock Market?\n",
      "Sleeping for 14.2\n",
      "Sleeping for 5.1\n",
      "element locator path can not be found\n",
      "file renamed and moved\n",
      "trying to download: Jump aggregation, volatility prediction, and nonlinear estimation of banks’ sustainability risk\n",
      "Sleeping for 10.0\n",
      "Sleeping for 10.8\n",
      "file renamed and moved\n",
      "trying to download: Portfolio optimization-based stock prediction using long-short term memory network in quantitative trading\n",
      "Sleeping for 6.2\n",
      "Sleeping for 7.0\n",
      "file renamed and moved\n",
      "trying to download: Stock volume dependency of forest drought responses in Yunnan, China\n",
      "Sleeping for 8.9\n",
      "Sleeping for 14.4\n",
      "file renamed and moved\n",
      "trying to download: Exploring the initial impact of COVID-19 sentiment on US stock market using big data\n",
      "Sleeping for 15.2\n",
      "Sleeping for 10.5\n",
      "file renamed and moved\n",
      "trying to download: The application of stock index price prediction with neural network\n",
      "Sleeping for 15.3\n",
      "Sleeping for 12.1\n",
      "file renamed and moved\n",
      "trying to download: Deep LSTM with reinforcement learning layer for financial trend prediction in FX high frequency trading systems\n",
      "Sleeping for 7.4\n",
      "Sleeping for 14.4\n",
      "file renamed and moved\n",
      "trying to download: A robust regression-based stock exchange forecasting and determination of correlation between stock markets\n",
      "Sleeping for 5.1\n",
      "Sleeping for 13.0\n",
      "file renamed and moved\n",
      "trying to download: A novel hybrid model for stock price forecasting based on metaheuristics and support vector machine\n",
      "Sleeping for 5.5\n",
      "Sleeping for 5.1\n",
      "file renamed and moved\n",
      "trying to download: Forecasting economic recession through share price in the logistics industry with artificial intelligence (AI)\n",
      "Sleeping for 14.3\n",
      "Sleeping for 5.1\n",
      "file renamed and moved\n",
      "trying to download: Forecasting based on high-order fuzzy-fluctuation trends and particle swarm optimization machine learning\n",
      "Sleeping for 9.5\n",
      "Sleeping for 10.1\n",
      "file renamed and moved\n",
      "trying to download: A forecasting model based on multi-valued neutrosophic sets and two-factor, third-order fuzzy fluctuation logical relationships\n",
      "Sleeping for 9.1\n",
      "Sleeping for 7.9\n",
      "file renamed and moved\n",
      "trying to download: Important trading point prediction using a hybrid convolutional recurrent neural network\n",
      "Sleeping for 13.0\n",
      "Sleeping for 10.7\n",
      "file renamed and moved\n",
      "trying to download: A Quick Gbest Guided Artificial Bee Colony algorithm for stock market prices prediction\n",
      "Sleeping for 9.8\n",
      "Sleeping for 7.5\n",
      "file renamed and moved\n",
      "trying to download: Importance of event binary features in stock price prediction\n",
      "Sleeping for 8.0\n",
      "Sleeping for 10.1\n",
      "file renamed and moved\n",
      "trying to download: Text mining of stocktwits data for predicting stock prices\n",
      "Sleeping for 9.4\n",
      "Sleeping for 13.5\n",
      "file renamed and moved\n",
      "trying to download: Hybrid corporate performance prediction model considering technical capability\n",
      "Sleeping for 9.7\n",
      "Sleeping for 11.2\n",
      "file renamed and moved\n",
      "trying to download: Price movement prediction of cryptocurrencies using sentiment analysis and machine learning\n",
      "Sleeping for 10.4\n",
      "Sleeping for 11.0\n",
      "file renamed and moved\n",
      "trying to download: Using the entire yield curve in forecasting output and inflation\n",
      "Sleeping for 10.4\n",
      "Sleeping for 5.7\n",
      "file renamed and moved\n",
      "trying to download: Forecasting the stock market with linguistic rules generated from the minimize entropy principle and the cumulative probability distribution approaches\n",
      "Sleeping for 9.6\n",
      "Sleeping for 6.6\n",
      "file renamed and moved\n",
      "trying to download: A two-factor autoregressive moving average model based on fuzzy fluctuation logical relationships\n",
      "Sleeping for 6.5\n",
      "Sleeping for 14.5\n",
      "file renamed and moved\n",
      "trying to download: A multifactor fuzzy time-series fitting model for forecasting the stock index\n",
      "Sleeping for 13.0\n",
      "Sleeping for 6.3\n",
      "file renamed and moved\n",
      "trying to download: Deep learning for stock market prediction\n",
      "Sleeping for 14.7\n",
      "Sleeping for 8.2\n",
      "file renamed and moved\n",
      "trying to download: Prediction of stock performance using deep neural networks\n",
      "Sleeping for 13.2\n",
      "Sleeping for 8.3\n",
      "file renamed and moved\n",
      "trying to download: Application of cloud model in qualitative forecasting for stock market trends\n",
      "Sleeping for 5.1\n",
      "Sleeping for 14.0\n",
      "file renamed and moved\n",
      "trying to download: Volatility forecasting for high-frequency financial data based on web search index and deep learning model\n",
      "Sleeping for 6.6\n",
      "Sleeping for 12.7\n",
      "file renamed and moved\n",
      "trying to download: Examination and Modification of Multi-Factor Model in Explaining Stock Excess Return with Hybrid Approach in Empirical Study of Chinese Stock Market\n",
      "Sleeping for 12.5\n",
      "Sleeping for 14.5\n",
      "file renamed and moved\n",
      "trying to download: Feature learning for stock price prediction shows a significant role of analyst rating\n",
      "Sleeping for 15.2\n",
      "Sleeping for 14.6\n",
      "file renamed and moved\n",
      "trying to download: A hybrid method based on extreme learning machine and wavelet transform denoising for stock prediction\n",
      "Sleeping for 14.6\n",
      "Sleeping for 9.6\n",
      "file renamed and moved\n",
      "trying to download: A Random Forests Approach to Predicting Clean Energy Stock Prices\n",
      "Sleeping for 13.0\n",
      "Sleeping for 12.5\n",
      "file renamed and moved\n"
     ]
    }
   ],
   "source": [
    "article_index = len(os.listdir(MDPI_FOLDERPATH))\n",
    "for article_name in mdpi_article_list[article_index:]:\n",
    "    print(f\"trying to download: {article_name}\")\n",
    "    write_in_inputbox(\"xpath\", mdpi_search_inputbox_xpath, article_name)\n",
    "    sleep_for_random_time()\n",
    "    click_on_button(\"xpath\", mdpi_search_button_xpath)\n",
    "    sleep_for_random_time()\n",
    "    scroll_page(400, 300)\n",
    "    click_on_button(\"xpath\", mdpi_pdf_button_xpath)\n",
    "    file_rename_and_moving(article_name, DOWNLOAD_LOCATION, MDPI_FOLDERPATH)"
   ]
  },
  {
   "cell_type": "code",
   "execution_count": 238,
   "id": "7ce82062",
   "metadata": {},
   "outputs": [
    {
     "name": "stdout",
     "output_type": "stream",
     "text": [
      "2\n"
     ]
    }
   ],
   "source": [
    "# Manual steps \n",
    "article_index = len(os.listdir(MDPI_FOLDERPATH))\n",
    "print(article_index)"
   ]
  },
  {
   "cell_type": "code",
   "execution_count": 232,
   "id": "7f620b31",
   "metadata": {},
   "outputs": [],
   "source": [
    "article_index = len(os.listdir(MDPI_FOLDERPATH))\n",
    "write_in_inputbox(\"xpath\", mdpi_search_inputbox_xpath, mdpi_article_list[article_index])\n"
   ]
  },
  {
   "cell_type": "code",
   "execution_count": 233,
   "id": "3e411a95",
   "metadata": {},
   "outputs": [],
   "source": [
    "click_on_button(\"xpath\", mdpi_search_button_xpath)\n"
   ]
  },
  {
   "cell_type": "code",
   "execution_count": 234,
   "id": "16d17619",
   "metadata": {},
   "outputs": [],
   "source": [
    "scroll_page(400, 300)"
   ]
  },
  {
   "cell_type": "code",
   "execution_count": 235,
   "id": "01da507f",
   "metadata": {},
   "outputs": [],
   "source": [
    "click_on_button(\"xpath\", mdpi_pdf_button_xpath)\n"
   ]
  },
  {
   "cell_type": "code",
   "execution_count": 237,
   "id": "24893276",
   "metadata": {},
   "outputs": [
    {
     "name": "stdout",
     "output_type": "stream",
     "text": [
      "file renamed and moved\n"
     ]
    }
   ],
   "source": [
    "article_index = len(os.listdir(MDPI_FOLDERPATH))\n",
    "file_rename_and_moving(mdpi_article_list[article_index], DOWNLOAD_LOCATION, MDPI_FOLDERPATH)"
   ]
  },
  {
   "cell_type": "markdown",
   "id": "ee3d52ca",
   "metadata": {},
   "source": [
    "## Springer: Completed\n",
    "email thread is active"
   ]
  },
  {
   "cell_type": "code",
   "execution_count": 20,
   "id": "960722fd",
   "metadata": {},
   "outputs": [
    {
     "name": "stdout",
     "output_type": "stream",
     "text": [
      "['10.1186/s40854-019-0138-0', '10.1007/s00530-021-00758-w', '10.1007/s00521-020-05094-0', '10.1186/s40854-020-00220-2', '10.1007/s12652-020-01682-z', '10.1007/s10489-020-01766-5', '10.1007/s00500-020-04788-w', '10.1007/s00521-019-04212-x', '10.1007/s00521-019-04698-5', '10.1186/s40535-018-0058-5', '10.1007/s10489-018-1351-7', '10.1007/s10614-020-10013-5', '10.1007/s00500-015-2003-z', '10.1007/s00500-020-05454-x', '10.1007/s00521-016-2304-x', '10.1007/s42452-020-03497-1', '10.1007/s10489-021-02218-4', '10.1007/s00521-014-1550-z', '10.1007/s00521-019-04566-2', '10.1007/s00607-019-00773-w', '10.1007/s10479-021-03932-5', '10.1007/s00521-020-04867-x', '10.1007/s12559-021-09841-w', '10.1007/s00500-020-04680-7', '10.1007/s00521-019-04319-1', '10.1007/s42521-020-00019-x', '10.1007/s10614-015-9492-9', '10.1007/s00500-020-05516-0', '10.1007/s00521-016-2303-y', '10.1007/s10618-008-0124-z', '10.1007/s10614-013-9407-6', '10.1007/s11042-021-11029-1', '10.1007/s00354-020-00104-0', '10.1007/s11831-020-09413-5', '10.1007/s00500-018-03743-0', '10.1057/s41260-020-00167-0', '10.1007/s10115-018-1263-1', '10.1007/s11146-020-09813-1', '10.1007/s11227-020-03609-z', '10.1023/a:1008699112516', '10.1007/s00521-021-06071-x', '10.1007/s10257-021-00507-6', '10.1007/s10489-018-1282-3', '10.1007/s10614-021-10118-5', '10.1007/s10115-020-01495-8', '10.1007/s13042-019-01041-1', '10.1007/s12652-020-01839-w', '10.1007/s00500-019-04347-y', '10.1186/s12874-018-0644-1', '10.1007/s11227-018-2717-7', '10.1007/s13369-017-2922-3', '10.1007/s12530-018-9221-4', '10.1007/s11280-021-00880-9', '10.1186/s40537-021-00430-0', '10.1007/s11307-020-01487-8', '10.1007/s11042-016-4159-7', '10.1007/s00521-018-3652-5', '10.1186/s40537-017-0111-6', '10.1007/s12652-020-02768-4', '10.1186/s40537-020-00333-6', '10.1007/s10489-018-1308-x', '10.1007/s42001-019-00035-x', '10.1007/s00500-019-04006-2', '10.1007/s10614-019-09911-0', '10.1007/s10614-020-10032-2', '10.1007/s13748-020-00225-z', '10.1007/s12204-010-9707-0', '10.1007/s10614-020-10066-6', '10.1007/s11042-021-10579-8', '10.1007/s10489-020-01839-5', '10.1007/s00500-021-05775-5', '10.1007/s10489-020-01814-0', '10.1007/s10462-019-09754-z', '10.1186/s40537-020-00299-5', '10.1186/s40537-020-00400-y', '10.1186/s40537-017-0092-5', '10.1007/s12065-020-00528-z', '10.1007/s00521-016-2215-x', '10.1007/s11227-017-2228-y', '10.1007/s00500-020-04957-x', '10.1007/s13369-020-04782-2', '10.1007/s00500-017-2800-7', '10.1186/s40854-020-00217-x', '10.1007/s00521-019-04572-4', '10.1007/s00521-019-04231-8', '10.1007/s00521-021-05903-0', '10.1186/s40854-019-0153-1', '10.1007/s10614-021-10101-0']\n",
      "['Predicting the daily return direction of the stock market using hybrid machine learning algorithms', 'A graph-based CNN-LSTM stock price prediction algorithm with leading indicators', 'Exploring the financial indicators to improve the pattern recognition of economic data based on machine learning', 'Forecasting directional movement of Forex data using LSTM with technical and macroeconomic indicators', 'Gold price forecasting research based on an improved online extreme learning machine algorithm', 'A hybrid two-stage financial stock forecasting algorithm based on clustering and ensemble learning', 'Prediction research of financial time series based on deep learning', 'Stock price prediction based on deep neural networks', 'Stock price forecast based on combined model of ARI-MA-LS-SVM', 'Machine learning and causal analyses for modeling financial and economic data', 'Support vector regression with modified firefly algorithm for stock price forecasting', 'Predicting Stock Price Using Two-Stage Machine Learning Techniques', 'Exploring mutual information-based sentimental analysis with kernel-based extreme learning machine for stock prediction', 'Sentiment analysis of stock markets using a novel dimensional valence–arousal approach', 'Comparison of individual, ensemble and integrated ensemble machine learning methods to predict China’s SME credit risk in supply chain finance', 'Cost estimation and prediction in construction projects: a systematic review on machine learning techniques', 'Learning to trade in financial time series using high-frequency through wavelet transformation and deep reinforcement learning', 'Empirical analysis: stock market prediction via extreme learning machine', 'Stock intelligent investment strategy based on support vector machine parameter optimization algorithm', 'Application of deep reinforcement learning in stock trading strategies and stock forecasting', 'Real estate price estimation in French cities using geocoding and machine learning', 'A CNN–LSTM model for gold price time-series forecasting', 'Deep Learning Forecasting in Cryptocurrency High-Frequency Trading', 'Hourly day-ahead wind power forecasting with the EEMD-CSO-LSTM-EFG deep learning technique', 'A monetary policy prediction model based on deep learning', 'Forex exchange rate forecasting using deep recurrent neural networks', 'Exploiting Financial News and Social Media Opinions for Stock Market Analysis using MCMC Bayesian Inference', 'Deep learning-based investment strategy: technical indicator clustering and residual blocks', 'A new hybrid parametric and machine learning model with homogeneity hint for European-style index option pricing', 'A link mining algorithm for earnings forecast and trading', 'Hybrid Method of Multiple Kernel Learning and Genetic Algorithm for Forecasting Short-Term Foreign Exchange Rates', 'Integrating big data driven sentiments polarity and ABC-optimized LSTM for time series forecasting', 'Enhanced Prediction of Intra-day Stock Market Using Metaheuristic Optimization on RNN–LSTM Network', 'Stock Market Forecasting Using Computational Intelligence: A Survey', 'Forecasting stock volatility process using improved least square support vector machine approach', 'Improving CAT bond pricing models via machine learning', 'Local and global characteristics-based kernel hybridization to increase optimal support vector machine performance for stock market prediction', 'Machine Learning Predictions of Housing Market Synchronization across US States: The Role of Uncertainty', 'Application of deep learning model under improved emd in railway transportation investment benefits and national economic attribute analysis', 'Credit risk assessment using statistical and machine learning: Basic methodology and risk modeling applications', 'Binary tree pricing method of farmland management right mortgage based on machine learning and complex network algorithm', 'Decision support model of e-commerce enterprise investment based on deep learning algorithm', 'A meta extreme learning machine method for forecasting financial time series', 'Intelligent FinTech Data Mining by Advanced Deep Learning Approaches', 'Deep end-to-end learning for price prediction of second-hand items', 'Study on the prediction of stock price based on the associated network model of LSTM', 'Stock market prediction using machine learning classifiers and social media, news', 'Predicting stock market trends using machine learning algorithms via public sentiment and political situation analysis', 'Machine learning methodologies versus cardiovascular risk scores, in predicting disease risk', 'Improving reliability and reducing cost of task execution on preemptible VM instances using machine learning approach', 'Fractal Inspection and Machine Learning-Based Predictive Modelling Framework for Financial Markets', 'ACFLN: artificial chemical functional link network for prediction of stock market index', 'A hybrid approach for stock trend prediction based on tweets embedding and historical prices', 'Data science approach to stock prices forecasting in Indonesia during Covid-19 using Long Short-Term Memory (LSTM)', 'Next-Generation Radiogenomics Sequencing for Prediction of EGFR and KRAS Mutation Status in NSCLC Patients Using Multimodal Imaging and Machine Learning Algorithms', 'Stock prediction using deep learning', 'Short-term electricity price forecasting and classification in smart grids using optimized multikernel extreme learning machine', 'Big Data: Deep Learning for financial sentiment analysis', 'Dynamic adjustment of stock position based on hybrid deep neural network', 'Short-term stock market price trend prediction using a comprehensive deep learning system', 'A study on novel filtering and relationship between input-features and target-vectors in a deep learning model for stock price prediction', 'Enhanced news sentiment analysis using deep learning methods', 'Jump detection in financial time series using machine learning algorithms', 'Short Term Firm-Specific Stock Forecasting with BDI Framework', 'Support Vector Machine Algorithms: An Application to Ship Price Forecasting', 'A synchronous deep reinforcement learning model for automated multi-stock trading', 'Forecasting of stock returns by using manifold wavelet support vector machine', 'Development of Intelligent Stock Trading System Using Pattern Independent Predictor and Turning Point Matrix', 'StockPred: a framework for stock Price prediction', 'A multi-layer and multi-ensemble stock trader using deep learning and deep reinforcement learning', 'Forecasting stock price using integrated artificial neural network and metaheuristic algorithms compared to time series models', 'A hybrid stock price index forecasting model based on variational mode decomposition and LSTM network', 'A systematic review of fundamental and technical analysis of stock market predictions', 'A comprehensive evaluation of ensemble learning for stock-market prediction', 'A novel multi-source information-fusion predictive framework based on deep neural networks for accuracy enhancement in stock market prediction', 'A novel hybrid model based on Hodrick–Prescott filter and support vector regression algorithm for optimizing stock market price prediction', 'Prognosticate of the financial market utilizing ensemble-based conglomerate model with technical indicators', 'Sales forecasting by combining clustering and machine-learning techniques for computer retailing', 'An innovative neural network approach for stock market prediction', 'Time series data analysis of stock price movement using machine learning techniques', 'Multi model-Based Hybrid Prediction Algorithm (MM-HPA) for Stock Market Prices Prediction Framework (SMPPF)', 'An interpretable neuro-fuzzy approach to stock price forecasting', 'Forecasting and trading cryptocurrencies with machine learning under changing market conditions', 'Financial hedging in energy market by cross-learning machines', 'Genetic and deep learning clusters based on neural networks for management decision structures', 'The random neural network in price predictions', 'A chemical-reaction-optimization-based neuro-fuzzy hybrid network for stock closing price prediction', 'The Use of Machine Learning Combined with Data Mining Technology in Financial Risk Prevention']\n"
     ]
    }
   ],
   "source": [
    "# initialize list of article in Springer\n",
    "springer_doi_list = extract_pandasdf_column1_row_values_based_on_column2_value(filtered_article_name_source_name, \"Springer\", column1name = \"doi\")\n",
    "springer_article_list = extract_pandasdf_column1_row_values_based_on_column2_value(filtered_article_name_source_name, \"Springer\")"
   ]
  },
  {
   "cell_type": "code",
   "execution_count": 39,
   "id": "cb2be3db",
   "metadata": {},
   "outputs": [],
   "source": [
    "# Stable configuration\n",
    "\n",
    "SPRINGER_INITIAL_LINK = \"http://link.springer.com.library-christuniversity.remotexs.in/article/\"\n",
    "SPRINGER_FOLDERPATH = \"/home/chaudharyubuntu/Desktop/systematic_review_python_code/Get_full_text/downloadedArticles/Springer\"\n",
    "# Path of Dynamic web element\n",
    "springer_search_inputbox_xpath = \"\"\n",
    "springer_search_button_xpath = \"\"\n",
    "springer_pdf_button_xpath = \"//div[@class='c-context-bar__container u-container']//a[@class='c-pdf-download__link']\""
   ]
  },
  {
   "cell_type": "code",
   "execution_count": 22,
   "id": "d5cf339d",
   "metadata": {},
   "outputs": [
    {
     "data": {
      "text/plain": [
       "2"
      ]
     },
     "execution_count": 22,
     "metadata": {},
     "output_type": "execute_result"
    }
   ],
   "source": [
    "springer_article_list.index('Exploring the financial indicators to improve the pattern recognition of economic data based on machine learning')"
   ]
  },
  {
   "cell_type": "code",
   "execution_count": 26,
   "id": "87d13fa9",
   "metadata": {},
   "outputs": [
    {
     "name": "stdout",
     "output_type": "stream",
     "text": [
      "trying to download article: 10.1057/s41260-020-00167-0\n",
      "Sleeping for 14.1\n",
      "Sleeping for 5.6\n",
      "file renamed and moved\n",
      "trying to download article: 10.1007/s10115-018-1263-1\n",
      "Sleeping for 14.3\n",
      "Sleeping for 13.3\n",
      "file renamed and moved\n",
      "trying to download article: 10.1007/s11146-020-09813-1\n",
      "Sleeping for 8.8\n",
      "Sleeping for 13.3\n",
      "file renamed and moved\n",
      "trying to download article: 10.1007/s11227-020-03609-z\n",
      "Sleeping for 12.0\n",
      "Sleeping for 8.8\n",
      "file renamed and moved\n",
      "trying to download article: 10.1023/a:1008699112516\n",
      "Sleeping for 8.1\n",
      "Sleeping for 6.3\n",
      "file renamed and moved\n",
      "trying to download article: 10.1007/s00521-021-06071-x\n",
      "Sleeping for 11.0\n",
      "Sleeping for 5.3\n",
      "file renamed and moved\n",
      "trying to download article: 10.1007/s10257-021-00507-6\n",
      "Sleeping for 11.1\n",
      "Sleeping for 8.5\n",
      "file renamed and moved\n",
      "trying to download article: 10.1007/s10489-018-1282-3\n",
      "Sleeping for 12.5\n",
      "Sleeping for 9.2\n",
      "file renamed and moved\n",
      "trying to download article: 10.1007/s10614-021-10118-5\n",
      "Sleeping for 6.5\n",
      "Sleeping for 5.6\n",
      "file renamed and moved\n",
      "trying to download article: 10.1007/s10115-020-01495-8\n",
      "Sleeping for 14.5\n",
      "Sleeping for 8.4\n",
      "file renamed and moved\n",
      "trying to download article: 10.1007/s13042-019-01041-1\n",
      "Sleeping for 7.0\n",
      "Sleeping for 12.4\n",
      "file renamed and moved\n",
      "trying to download article: 10.1007/s12652-020-01839-w\n",
      "Sleeping for 8.1\n",
      "Sleeping for 11.5\n",
      "file renamed and moved\n",
      "trying to download article: 10.1007/s00500-019-04347-y\n",
      "Sleeping for 6.4\n",
      "Sleeping for 13.0\n",
      "file renamed and moved\n",
      "trying to download article: 10.1186/s12874-018-0644-1\n",
      "Sleeping for 6.0\n",
      "Sleeping for 8.1\n",
      "file renamed and moved\n",
      "trying to download article: 10.1007/s11227-018-2717-7\n",
      "Sleeping for 8.7\n",
      "Sleeping for 14.6\n",
      "file renamed and moved\n",
      "trying to download article: 10.1007/s13369-017-2922-3\n",
      "Sleeping for 6.7\n",
      "Sleeping for 5.7\n",
      "file renamed and moved\n",
      "trying to download article: 10.1007/s12530-018-9221-4\n",
      "Sleeping for 10.1\n",
      "Sleeping for 12.1\n",
      "file renamed and moved\n",
      "trying to download article: 10.1007/s11280-021-00880-9\n",
      "Sleeping for 14.4\n",
      "Sleeping for 9.8\n",
      "file renamed and moved\n",
      "trying to download article: 10.1186/s40537-021-00430-0\n",
      "Sleeping for 12.8\n",
      "Sleeping for 8.5\n",
      "file renamed and moved\n",
      "trying to download article: 10.1007/s11307-020-01487-8\n",
      "Sleeping for 10.2\n",
      "Sleeping for 6.2\n",
      "file renamed and moved\n",
      "trying to download article: 10.1007/s11042-016-4159-7\n",
      "Sleeping for 10.0\n",
      "Sleeping for 8.0\n",
      "file renamed and moved\n",
      "trying to download article: 10.1007/s00521-018-3652-5\n",
      "Sleeping for 12.2\n",
      "Sleeping for 9.4\n",
      "file renamed and moved\n",
      "trying to download article: 10.1186/s40537-017-0111-6\n",
      "Sleeping for 13.1\n",
      "Sleeping for 7.3\n",
      "file renamed and moved\n",
      "trying to download article: 10.1007/s12652-020-02768-4\n",
      "Sleeping for 12.5\n",
      "Sleeping for 9.4\n",
      "file renamed and moved\n",
      "trying to download article: 10.1186/s40537-020-00333-6\n",
      "Sleeping for 10.4\n",
      "Sleeping for 5.3\n",
      "file renamed and moved\n",
      "trying to download article: 10.1007/s10489-018-1308-x\n",
      "Sleeping for 7.2\n",
      "Sleeping for 7.8\n",
      "file renamed and moved\n",
      "trying to download article: 10.1007/s42001-019-00035-x\n",
      "Sleeping for 5.5\n",
      "Sleeping for 8.7\n",
      "file renamed and moved\n",
      "trying to download article: 10.1007/s00500-019-04006-2\n",
      "Sleeping for 14.1\n",
      "Sleeping for 11.5\n",
      "file renamed and moved\n",
      "trying to download article: 10.1007/s10614-019-09911-0\n",
      "Sleeping for 6.6\n",
      "Sleeping for 10.6\n",
      "file renamed and moved\n",
      "trying to download article: 10.1007/s10614-020-10032-2\n",
      "Sleeping for 11.5\n",
      "Sleeping for 14.6\n",
      "file renamed and moved\n",
      "trying to download article: 10.1007/s13748-020-00225-z\n",
      "Sleeping for 9.2\n",
      "Sleeping for 8.4\n",
      "file renamed and moved\n",
      "trying to download article: 10.1007/s12204-010-9707-0\n",
      "Sleeping for 7.4\n",
      "Sleeping for 12.6\n",
      "file renamed and moved\n",
      "trying to download article: 10.1007/s10614-020-10066-6\n",
      "Sleeping for 6.2\n",
      "Sleeping for 15.1\n",
      "file renamed and moved\n",
      "trying to download article: 10.1007/s11042-021-10579-8\n",
      "Sleeping for 14.1\n",
      "Sleeping for 13.3\n",
      "file renamed and moved\n",
      "trying to download article: 10.1007/s10489-020-01839-5\n",
      "Sleeping for 11.0\n",
      "Sleeping for 11.2\n",
      "file renamed and moved\n",
      "trying to download article: 10.1007/s00500-021-05775-5\n",
      "Sleeping for 12.7\n",
      "Sleeping for 9.6\n",
      "file renamed and moved\n",
      "trying to download article: 10.1007/s10489-020-01814-0\n",
      "Sleeping for 10.2\n",
      "Sleeping for 11.2\n",
      "file renamed and moved\n",
      "trying to download article: 10.1007/s10462-019-09754-z\n",
      "Sleeping for 12.7\n",
      "Sleeping for 9.2\n",
      "file renamed and moved\n",
      "trying to download article: 10.1186/s40537-020-00299-5\n",
      "Sleeping for 13.8\n",
      "Sleeping for 6.0\n",
      "file renamed and moved\n",
      "trying to download article: 10.1186/s40537-020-00400-y\n",
      "Sleeping for 5.3\n",
      "Sleeping for 5.3\n",
      "file renamed and moved\n",
      "trying to download article: 10.1186/s40537-017-0092-5\n",
      "Sleeping for 7.3\n",
      "Sleeping for 15.2\n",
      "file renamed and moved\n",
      "trying to download article: 10.1007/s12065-020-00528-z\n",
      "Sleeping for 9.8\n",
      "Sleeping for 7.0\n",
      "file renamed and moved\n",
      "trying to download article: 10.1007/s00521-016-2215-x\n",
      "Sleeping for 13.5\n",
      "Sleeping for 10.6\n",
      "file renamed and moved\n",
      "trying to download article: 10.1007/s11227-017-2228-y\n",
      "Sleeping for 15.0\n",
      "Sleeping for 13.0\n",
      "file renamed and moved\n",
      "trying to download article: 10.1007/s00500-020-04957-x\n",
      "Sleeping for 13.0\n",
      "Sleeping for 14.4\n",
      "file renamed and moved\n",
      "trying to download article: 10.1007/s13369-020-04782-2\n",
      "Sleeping for 7.3\n",
      "Sleeping for 6.7\n",
      "file renamed and moved\n",
      "trying to download article: 10.1007/s00500-017-2800-7\n",
      "Sleeping for 6.3\n",
      "Sleeping for 6.2\n",
      "file renamed and moved\n",
      "trying to download article: 10.1186/s40854-020-00217-x\n",
      "Sleeping for 11.5\n",
      "Sleeping for 15.1\n",
      "file renamed and moved\n",
      "trying to download article: 10.1007/s00521-019-04572-4\n",
      "Sleeping for 10.3\n",
      "Sleeping for 8.7\n",
      "file renamed and moved\n",
      "trying to download article: 10.1007/s00521-019-04231-8\n",
      "Sleeping for 12.7\n",
      "Sleeping for 8.7\n",
      "file renamed and moved\n",
      "trying to download article: 10.1007/s00521-021-05903-0\n",
      "Sleeping for 15.0\n",
      "Sleeping for 14.4\n",
      "file renamed and moved\n",
      "trying to download article: 10.1186/s40854-019-0153-1\n",
      "Sleeping for 12.9\n",
      "Sleeping for 13.2\n",
      "file renamed and moved\n",
      "trying to download article: 10.1007/s10614-021-10101-0\n",
      "Sleeping for 9.1\n",
      "Sleeping for 7.8\n",
      "file renamed and moved\n"
     ]
    }
   ],
   "source": [
    "# Automated loop\n",
    "index = len(os.listdir(SPRINGER_FOLDERPATH))\n",
    "\n",
    "for article_name in springer_article_list[index:]:\n",
    "    doi_index = springer_article_list.index(str(article_name))\n",
    "    #print(f\"trying to download: {article_name}\")\n",
    "    doi = springer_doi_list[doi_index]\n",
    "    create_article_weblink_and_browse(SPRINGER_INITIAL_LINK, doi)\n",
    "    sleep_for_random_time()\n",
    "    scroll_page(400, 300)\n",
    "    click_on_button(\"xpath\", springer_pdf_button_xpath)\n",
    "    sleep_for_random_time()\n",
    "    file_rename_and_moving(article_name, DOWNLOAD_LOCATION, SPRINGER_FOLDERPATH)"
   ]
  },
  {
   "cell_type": "code",
   "execution_count": 256,
   "id": "68f59b2c",
   "metadata": {},
   "outputs": [],
   "source": [
    "#driver.get(SPRINGER_WEB_LINK)\n",
    "#click_on_button(\"xpath\", \"//a[@alt='Springer']\")"
   ]
  },
  {
   "cell_type": "code",
   "execution_count": 257,
   "id": "46d87320",
   "metadata": {},
   "outputs": [],
   "source": []
  },
  {
   "cell_type": "code",
   "execution_count": 282,
   "id": "61111c8b",
   "metadata": {},
   "outputs": [
    {
     "name": "stdout",
     "output_type": "stream",
     "text": [
      "trying to download article: 10.1186/s40854-019-0138-0\n"
     ]
    }
   ],
   "source": [
    "doi_index = len(os.listdir(SPRINGER_FOLDERPATH))\n",
    "doi = springer_doi_list[doi_index]\n",
    "create_article_weblink_and_browse(SPRINGER_INITIAL_LINK, doi)"
   ]
  },
  {
   "cell_type": "code",
   "execution_count": 283,
   "id": "147d7e11",
   "metadata": {},
   "outputs": [],
   "source": [
    "scroll_page(400, 300)"
   ]
  },
  {
   "cell_type": "code",
   "execution_count": 316,
   "id": "3dc83348",
   "metadata": {},
   "outputs": [],
   "source": [
    "click_on_button(\"xpath\", springer_pdf_button_xpath)"
   ]
  },
  {
   "cell_type": "code",
   "execution_count": 25,
   "id": "021c22b7",
   "metadata": {},
   "outputs": [
    {
     "name": "stdout",
     "output_type": "stream",
     "text": [
      "file renamed and moved\n"
     ]
    }
   ],
   "source": [
    "article_index = len(os.listdir(SPRINGER_FOLDERPATH))\n",
    "article_name = springer_article_list[article_index]\n",
    "file_rename_and_moving(article_name, DOWNLOAD_LOCATION, SPRINGER_FOLDERPATH)"
   ]
  },
  {
   "cell_type": "code",
   "execution_count": null,
   "id": "b46b72d2",
   "metadata": {},
   "outputs": [],
   "source": []
  },
  {
   "cell_type": "code",
   "execution_count": null,
   "id": "bb536b38",
   "metadata": {},
   "outputs": [],
   "source": []
  },
  {
   "cell_type": "markdown",
   "id": "6d0c5ba1",
   "metadata": {},
   "source": [
    "# science direct: Completed \n",
    "42 articles, python api available\n",
    "Please check our Developer Portal for Scopus API at https://dev.elsevier.com."
   ]
  },
  {
   "cell_type": "code",
   "execution_count": null,
   "id": "0f115f74",
   "metadata": {},
   "outputs": [],
   "source": [
    "filtered_article_name_source_name"
   ]
  },
  {
   "cell_type": "code",
   "execution_count": 339,
   "id": "8588d6f3",
   "metadata": {},
   "outputs": [
    {
     "name": "stdout",
     "output_type": "stream",
     "text": [
      "['Forecasting Crude Oil Prices: A Deep Learning based Model', 'Forecasting direction of China security index 300 movement with least squares support vector machine', 'Integration of Principal Component Analysis and Recurrent Neural Network to Forecast the Stock Price of Casablanca Stock Exchange', 'Market sentiment-aware deep reinforcement learning approach for stock portfolio allocation', 'An Optimized Support Vector Machine (SVM) based on Particle Swarm Optimization (PSO) for Cryptocurrency Forecasting', 'Stock Market Prediction Based on Generative Adversarial Network', 'NSE Stock Market Prediction Using Deep-Learning Models', 'Text-based crude oil price forecasting: A deep learning approach', 'Short-Term stock price forecasting using kernel principal component analysis and support vector machines: The case of Casablanca stock Exchange', 'A SVM stock selection model within PCA', 'Stock price prediction using support vector regression on daily and up to the minute prices', 'Forecasting Exchange Rate Value at Risk using Deep Belief Network Ensemble based Approach', 'Financial news predicts stock market volatility better than close price', 'Stock selection with random forest: An exploitation of excess return in the Chinese stock market', 'Modelling the iron ore price index: A new perspective from a hybrid data reconstructed EEMD-GORU model', 'Prediction Models for Indian Stock Market', 'A fuzzy theory-based machine learning method for workdays and weekends short-term load forecasting', 'Should asset managers pay for economic research? A machine learning evaluation', 'Forecasting multinomial stock returns using machine learning methods', 'Predictive analytics in Agriculture: Forecasting prices of Arecanuts in Kerala', 'Investigation of Artificial Intelligence Techniques in Finance and Marketing', 'Dynamic factor models with clustered loadings: Forecasting education flows using unemployment data', 'Forecasting financial time series using a low complexity recurrent neural network and evolutionary learning approach', 'Instance Selection Using Genetic Algorithms for an Intelligent Ensemble Trading System', 'COSMOS trader – Chaotic Neuro-oscillatory multiagent financial prediction and trading system', 'A methodology for the resolution of cashtag collisions on Twitter – A natural language processing & data fusion approach', 'Credibility assessment of financial stock tweets', 'Application of machine learning models and artificial intelligence to analyze annual financial statements to identify companies with unfair corporate culture', 'Forecasting the movement direction of exchange rate with polynomial smooth support vector machine', 'Stock Classification Prediction Based on Spark', 'The role of AI in capital structure to enhance corporate funding strategies', 'Forecasting stock index price based on M-factors fuzzy time series and particle swarm optimization', 'A hybrid stock trading framework integrating technical analysis with machine learning techniques', 'A cookbook for using model diagnostics in integrated stock assessments', 'Applicability of deep learning models for stock price forecasting an empirical study on bankex data', 'A kernel entropy manifold learning approach for financial data analysis', 'Stock Closing Price Prediction using Machine Learning Techniques', 'Feature selection and deep neural networks for stock price direction forecasting using technical analysis indicators', 'Stock market prediction using Firefly algorithm with evolutionary framework optimized feature reduction for OSELM method', 'A differential harmony search based hybrid interval type2 fuzzy EGARCH model for stock market volatility prediction', 'Liquidity prediction on Vietnamese stock market using deep learning', 'An evaluation index system for intellectual capital evaluation based on machine learning']\n",
      "['https://www-sciencedirect-com-christuniversity.knimbus.com/science/article/pii/S1877050917326169', 'https://www-sciencedirect-com-christuniversity.knimbus.com/science/article/pii/S1877050914005158', 'https://www-sciencedirect-com-christuniversity.knimbus.com/science/article/pii/S1877050919300080', 'https://www-sciencedirect-com-christuniversity.knimbus.com/science/article/pii/S2215098621000070', 'https://www-sciencedirect-com-christuniversity.knimbus.com/science/article/pii/S1877050919321647', 'https://www-sciencedirect-com-christuniversity.knimbus.com/science/article/pii/S1877050919302789', 'https://www-sciencedirect-com-christuniversity.knimbus.com/science/article/pii/S1877050918307828', 'https://www-sciencedirect-com-christuniversity.knimbus.com/science/article/pii/S0169207018301110', 'https://www-sciencedirect-com-christuniversity.knimbus.com/science/article/pii/S1877050918301236', 'https://www-sciencedirect-com-christuniversity.knimbus.com/science/article/pii/S187705091400461X', 'https://www-sciencedirect-com-christuniversity.knimbus.com/science/article/pii/S2405918818300060', 'https://www-sciencedirect-com-christuniversity.knimbus.com/science/article/pii/S1877050918318829', 'https://www-sciencedirect-com-christuniversity.knimbus.com/science/article/pii/S240591881730048X', 'https://www-sciencedirect-com-christuniversity.knimbus.com/science/article/pii/S2405844019359705', 'https://www-sciencedirect-com-christuniversity.knimbus.com/science/article/pii/S2096232020300408', 'https://www-sciencedirect-com-christuniversity.knimbus.com/science/article/pii/S1877050916311619', 'https://www-sciencedirect-com-christuniversity.knimbus.com/science/article/pii/S037877882100356X', 'https://www-sciencedirect-com-christuniversity.knimbus.com/science/article/pii/S2405918820300131', 'https://www-sciencedirect-com-christuniversity.knimbus.com/science/article/pii/S2405918820300143', 'https://www-sciencedirect-com-christuniversity.knimbus.com/science/article/pii/S1877050920310449', 'https://www-sciencedirect-com-christuniversity.knimbus.com/science/article/pii/S1877050920315234', 'https://www-sciencedirect-com-christuniversity.knimbus.com/science/article/pii/S0169207021000261', 'https://www-sciencedirect-com-christuniversity.knimbus.com/science/article/pii/S1319157815000944', 'https://www-sciencedirect-com-christuniversity.knimbus.com/science/article/pii/S1877050917318240', 'https://www-sciencedirect-com-christuniversity.knimbus.com/science/article/pii/S2405918818300990', 'https://www-sciencedirect-com-christuniversity.knimbus.com/science/article/pii/S0957417419301812', 'https://www-sciencedirect-com-christuniversity.knimbus.com/science/article/pii/S0957417420310356', 'https://www-sciencedirect-com-christuniversity.knimbus.com/science/article/pii/S1877050920322535', 'https://www-sciencedirect-com-christuniversity.knimbus.com/science/article/pii/S0895717712002658', 'https://www-sciencedirect-com-christuniversity.knimbus.com/science/article/pii/S1877050919319933', 'https://www-sciencedirect-com-christuniversity.knimbus.com/science/article/pii/S2590005620300023', 'https://www-sciencedirect-com-christuniversity.knimbus.com/science/article/pii/S0888613X13002041', 'https://www-sciencedirect-com-christuniversity.knimbus.com/science/article/pii/S2405918815300179', 'https://www-sciencedirect-com-christuniversity.knimbus.com/science/article/pii/S0165783621000874', 'https://www-sciencedirect-com-christuniversity.knimbus.com/science/article/pii/S1877050918320362', 'https://www-sciencedirect-com-christuniversity.knimbus.com/science/article/pii/S0167923614001250', 'https://www-sciencedirect-com-christuniversity.knimbus.com/science/article/pii/S1877050920307924', 'https://www-sciencedirect-com-christuniversity.knimbus.com/science/article/pii/S266682702100030X', 'https://www-sciencedirect-com-christuniversity.knimbus.com/science/article/pii/S2590188519300162', 'https://www-sciencedirect-com-christuniversity.knimbus.com/science/article/pii/S0888613X15000158', 'https://www-sciencedirect-com-christuniversity.knimbus.com/science/article/pii/S187705092032144X', 'https://www-sciencedirect-com-christuniversity.knimbus.com/science/article/pii/S1110016820305883']\n"
     ]
    }
   ],
   "source": [
    "# initialize list of article in SCIENCE DIRECT\n",
    "science_direct_article_list = extract_pandasdf_column1_row_values_based_on_column2_value(filtered_article_name_source_name, \"Science Direct\")\n",
    "science_direct_url_list = extract_pandasdf_column1_row_values_based_on_column2_value(filtered_article_name_source_name, \"Science Direct\", column1name= \"url\")\n"
   ]
  },
  {
   "cell_type": "code",
   "execution_count": 40,
   "id": "49cdecd7",
   "metadata": {},
   "outputs": [],
   "source": [
    "# Stable configuration\n",
    "SCIENCE_DIRECT_WEB_LINK = \"//a[@alt='Science Direct']\"\n",
    "SCIENCE_DIRECT_FOLDERPATH = \"/home/chaudharyubuntu/Desktop/systematic_review_python_code/Get_full_text/downloadedArticles/Science Direct\"\n",
    "# Path of Dynamic web element\n",
    "knimbus_science_direct_xpath = \"\"\n",
    "science_direct_pdf_button_xpath = \"//span[@class='pdf-download-label-short u-hide-from-lg']\"\n",
    "science_direct_download_button_xpath = \"//span[normalize-space()='Download this article']\""
   ]
  },
  {
   "cell_type": "code",
   "execution_count": 354,
   "id": "8c1c6e50",
   "metadata": {},
   "outputs": [],
   "source": [
    "click_on_button(\"xpath\", SCIENCE_DIRECT_WEB_LINK)"
   ]
  },
  {
   "cell_type": "code",
   "execution_count": 380,
   "id": "fd722a13",
   "metadata": {},
   "outputs": [
    {
     "name": "stdout",
     "output_type": "stream",
     "text": [
      "trying to download: A differential harmony search based hybrid interval type2 fuzzy EGARCH model for stock market volatility prediction\n",
      "Sleeping for 12.7\n",
      "Sleeping for 13.0\n",
      "Sleeping for 14.9\n",
      "file renamed and moved\n",
      "trying to download: Liquidity prediction on Vietnamese stock market using deep learning\n",
      "Sleeping for 9.3\n",
      "Sleeping for 12.5\n",
      "Sleeping for 12.1\n",
      "file renamed and moved\n",
      "trying to download: An evaluation index system for intellectual capital evaluation based on machine learning\n",
      "Sleeping for 5.5\n",
      "Sleeping for 13.7\n",
      "Sleeping for 15.2\n",
      "file renamed and moved\n"
     ]
    }
   ],
   "source": [
    "# Automated loop\n",
    "index = len(os.listdir(SCIENCE_DIRECT_FOLDERPATH))\n",
    "\n",
    "for article_name in science_direct_article_list[index:]:\n",
    "    url_index = science_direct_article_list.index(str(article_name))\n",
    "    print(f\"trying to download: {article_name}\")\n",
    "    url = science_direct_url_list[url_index]\n",
    "    driver.get(url)\n",
    "    sleep_for_random_time()\n",
    "    click_on_button(\"xpath\", science_direct_pdf_button_xpath)\n",
    "    sleep_for_random_time()\n",
    "    click_on_button(\"xpath\", science_direct_download_button_xpath)\n",
    "    sleep_for_random_time()\n",
    "    file_rename_and_moving(article_name, DOWNLOAD_LOCATION, SCIENCE_DIRECT_FOLDERPATH)"
   ]
  },
  {
   "cell_type": "code",
   "execution_count": 378,
   "id": "c3ffbd61",
   "metadata": {},
   "outputs": [
    {
     "name": "stdout",
     "output_type": "stream",
     "text": [
      "blah\n"
     ]
    }
   ],
   "source": [
    "print(\"blah\")"
   ]
  },
  {
   "cell_type": "code",
   "execution_count": 357,
   "id": "535f579c",
   "metadata": {},
   "outputs": [],
   "source": [
    "# Manual work\n"
   ]
  },
  {
   "cell_type": "code",
   "execution_count": 379,
   "id": "9aaa43ea",
   "metadata": {},
   "outputs": [
    {
     "name": "stdout",
     "output_type": "stream",
     "text": [
      "file renamed and moved\n"
     ]
    }
   ],
   "source": [
    "article_index = len(os.listdir(SCIENCE_DIRECT_FOLDERPATH))\n",
    "article_name = science_direct_article_list[article_index]\n",
    "file_rename_and_moving(article_name, DOWNLOAD_LOCATION, SCIENCE_DIRECT_FOLDERPATH)"
   ]
  },
  {
   "cell_type": "code",
   "execution_count": null,
   "id": "e6e323c0",
   "metadata": {},
   "outputs": [],
   "source": []
  },
  {
   "cell_type": "markdown",
   "id": "638d4418",
   "metadata": {},
   "source": [
    "## Proquest central: Complete\n",
    "they deny bulk download"
   ]
  },
  {
   "cell_type": "code",
   "execution_count": 23,
   "id": "45f5b4a5",
   "metadata": {},
   "outputs": [
    {
     "name": "stdout",
     "output_type": "stream",
     "text": [
      "['Earning movement prediction using machine learning-Support Vector Machines (SVM)', 'Machine learning in stock price forecast', 'A meta extreme learning machine method for forecasting financial time series', 'Deep Learning for the Prediction of Stock Market Trends', 'Application of quasi-oppositional symbiotic organisms search based extreme learning machine for stock market prediction', 'Prediction of stock prices using machine learning (regression, classification) Algorithms', 'An efficient hybrid machine learning method for time series stock market forecasting', 'Prediction of Stock Market performance by using machine learning techniques', 'Comparative Analysis of Machine Learning Algorithm to Forecast Indian Stock Market', 'Predicting Stock Price Using Two-Stage Machine Learning Techniques', 'Stock market prediction using machine learning algorithms', 'Predicting the Unpredictable: An Application of Machine Learning Algorithms in Indian Stock Market', 'Deep learning approaches for big data analysis', 'An Intelligent Market Capitalization Predictive System Using Deep Learning', 'Intelligent Monitoring and Forecasting Using Machine Learning Techniques', 'Dynamic portfolio insurance strategy: A robust machine learning approach', 'A deep learning based stock trading model with 2-D CNN trend detection', 'Sentiment-Driven Price Prediction of the Bitcoin based on Statistical and Deep Learning Approaches', 'Deep learning with stock indicators and two-dimensional principal component analysis for closing price prediction system', 'Stock Price Prediction with ARIMA and Deep Learning Models', 'Stock Price Prognosticator using Machine Learning Techniques', 'Deep learning for forecasting stock returns in the cross-section', 'Exploring the financial indicators to improve the pattern recognition of economic data based on machine learning', 'An Evaluation Study on Investment Efficiency: A Predictive Machine Learning Approach', 'Deep learning based non-linear regression for Stock Prediction', 'Multistep-Ahead Stock Price Forecasting Based on Secondary Decomposition Technique and Extreme Learning Machine Optimized by the Differential Evolution Algorithm', 'Evaluation of tree-based ensemble machine learning models in predicting stock price direction of movement', 'Stock market decision support modeling with tree-based adaboost ensemble machine learning models', 'Applications of Machine Learning Methods in Complex Economics and Financial Networks', 'Financial Time Series Stock Price Prediction using Deep Learning', 'Improving CAT bond pricing models via machine learning', 'Portfolio learning based on deep learning', 'Determining the impact of window length on time series forecasting using deep learning', 'Portfolio formation with preselection using deep learning from long-term financial data', 'Fractal Inspection and Machine Learning-Based Predictive Modelling Framework for Financial Markets', 'Robo-advisors: Machine learning in trend-following ETF investments', 'Genetic and deep learning clusters based on neural networks for management decision structures', 'A new hybrid parametric and machine learning model with homogeneity hint for European-style index option pricing', 'Stock Market Prediction Using a Deep Learning Approach', 'Stock Market Forecasting using Machine Learning: Today and Tomorrow', 'Carbon price forecasting based on improved ceemdan and extreme learning machine optimized by sparrow search algorithm', 'Deep learning based forecasting in stock market with big data analytics', 'Finding expert authors in financial forum using deep learning methods', 'Big Data: Deep Learning for financial sentiment analysis', 'A multi-layer and multi-ensemble stock trader using deep learning and deep reinforcement learning', 'Using Machine Learning to Predict Realized Variance', 'on the differential analysis of enterprise valuation methods as a guideline for unlisted companies assessment (II): Applying machine-learning techniques for unbiased enterprise value assessment', 'A study on novel filtering and relationship between input-features and target-vectors in a deep learning model for stock price prediction', 'Stock Price Pattern Prediction Based on Complex Network and Machine Learning', 'Forecasting the carbon price using extreme-point symmetric mode decomposition and extreme learning machine optimized by the grey Wolf optimizer algorithm', 'Short-term electricity price forecasting and classification in smart grids using optimized multikernel extreme learning machine', 'Stock Price Prediction: A Comparative Study between Traditional Statistical Approach and Machine Learning Approach', 'Deep Learning for Financial Prediction', 'Prediction of TCS Stock Prices Using Deep Learning Models', 'Stock prediction using deep learning', 'Forecasting gold prices based on extreme learning machine', 'A deep learning framework for financial time series using stacked autoencoders and long-short term memory', 'Is Deep Learning for Image Recognition Applicable to Stock Market Prediction?', 'Google stock prices prediction using deep learning', 'Predicting the daily return direction of the stock market using hybrid machine learning algorithms', 'Forward Forecast of Stock Price Using Sliding-Window Metaheuristic-Optimized Machine-Learning Regression', 'Deep learning networks for stock market analysis and prediction: Methodology, data representations, and case studies', 'Machine Learning on Stock Price Movement Forecast: The Sample of the Taiwan Stock Exchange', 'Stock price prediction using DEEP learning algorithm and its comparison with machine learning algorithms', 'Short-term stock market price trend prediction using a comprehensive deep learning system', 'Machine Learning Stock Market Prediction Studies : Review and Research Directions', 'Financial Trading Strategy System Based on Machine Learning', 'Hybrid machine learning technique for forecasting dhaka stock market timing decisions', 'Financial hedging in energy market by cross-learning machines', 'Stock movement prediction with sentiment analysis based on deep learning networks', 'Application of Machine Learning Tools in Predictive Modeling of Pairs Trade in Indian Stock Market [Dagger]', 'A Survey of Machine Learning Techniques Used on Indian Stock Market', 'Application of Unsupervised Feature Selection , Machine Learning and Evolutionary Algorithm in Predicting Stock Returns : A Study of Indian Firms †', 'Application of ensemble machine learning in the predictive data analytics of indian stock market', 'Influential Article Review - Using Hybrid Machine Learning Algorithms in Predicting Stock Market Patters', 'Stock Market Embedding and Prediction: A Deep Learning Method', 'Forecasting Stock Market Indices Using Machine Learning Algorithms', \"Modeling Traders' Behavior with Deep Learning and Machine Learning Methods: Evidence from BIST 100 Index\", 'Predicting stock market trends using machine learning algorithms via public sentiment and political situation analysis', 'Detecting anomalies in financial statements using machine learning algorithm', 'Multi-step short-term power consumption forecasting with a hybrid deep learning strategy', 'Comparison of individual, ensemble and integrated ensemble machine learning methods to predict China’s SME credit risk in supply chain finance', 'A monetary policy prediction model based on deep learning', 'Deep Learning Model for Financial Time Series Prediction', 'Predicting Stock Prices Using Machine Learning Techniques', 'An Empirical Study of Machine Learning Algorithms for Stock Daily Trading Strategy', 'Forecasting foreign exchange volatility using deep learning autoencoder-LSTM techniques', 'Using machine learning algorithms to estimate soil organic carbon variability with environmental variables and soil nutrient indicators in an alluvial soil', 'Forecasting daily stock trend using multi-filter feature selection and deep learning', 'Using Machine Learning Tools in Nasdaq Composite Stock Market Index Prediction', 'Predicting and Beating The Stock Market with Machine Learning and Technical Analysis', 'Deep Learning Algorithm-Based Financial Prediction Models', 'An Efficient Prediction Model based on Machine Learning Techniques for Prediction of the Stock Market', 'Stock Market Prediction based on Social Sentiments using Machine Learning', 'Forecasting Volatility of Stock Index: Deep Learning Model with Likelihood-Based Loss Function', 'Deep learning-based investment strategy: technical indicator clustering and residual blocks', 'A hybrid method based on extreme learning machine and wavelet transform denoising for stock prediction', 'Machine Learning for Predicting Stock Market Movement using News Headlines', 'Recursive Stock Price Prediction with Machine Learning and Web Scrapping for Specified Time Period', 'Novel volatility forecasting using deep learning–Long Short Term Memory Recurrent Neural Networks', 'Stock Prices Prediction using Deep Learning Models', 'Deep learning-based corporate performance prediction model considering technical capability', 'Analysing stock market trend prediction using machine deep learning models: A comprehensive review', 'Deep Learning can Replicate Adaptive Traders in a Limit-Order-Book Financial Market', 'Application of deep learning in stock market valuation index forecasting', 'Research on Market Stock Index Prediction Based on Network Security and Deep Learning', 'Machine learning techniques for short term stock movements classification for Moroccan stock exchange', 'Using Deep Learning Neural Networks and Candlestick Chart Representation to Predict Stock Market', 'A novel machine learning strategy based on two-dimensional numerical models in financial engineering', 'Analysis of Financial Time Series Forecasting using Deep Learning Model', 'Forecasting corporate failure in the Chinese energy sector: A novel integrated model of deep learning and support vector machine', 'A Novel Ensemble Deep Learning Model for Stock Prediction Based on Stock Prices and News', 'Evaluation of machine learning techniques for stock market movement prediction', 'Optimization of quantitative financial data analysis system based on deep learning', 'Corporate default predictions using machine learning: Literature review', 'An improved demand forecasting model using deep learning approach and proposed decision integration strategy for supply chain', 'Improving Deep Learning for Forecasting Accuracy in Financial Data', 'Prediction research of financial time series based on deep learning', 'Prediction of stock movement using phase space reconstruction and extreme learning machines', 'Short term stock price prediction using deep learning', 'Analysis of Financing Efficiency of Chinese Agricultural Listed Companies Based on Machine Learning', 'STOCK MARKET ANALYSIS AND PRICE PREDICTION USING DEEP LEARNING AND ARTIFICIAL NEURAL NETWORKS', 'Estimating warehouse rental price using machine learning techniques', 'Harvesting social media sentiment analysis to enhance stock market prediction using deep learning', 'Financial information asymmetry: Using deep learning algorithms to predict financial distress', 'Deep Learning-Based Stock Price Prediction Using LSTM and Bi-Directional LSTM Model', 'Detection of anomaly stock price based on time series deep learning models', 'Share Price Prediction using Machine Learning Technique', 'A Robust Predictive Model for Stock Price Prediction Using Deep Learning and Natural Language Processing', 'An algorithm for supporting decision making in stock investment through opinion mining and machine learning', 'Deep Learning for Price Movement Prediction Using Convolutional Neural Network and Long Short-Term Memory', 'Listening to chaotic whispers: A deep learning framework for news-oriented Stock trend prediction', 'Stock Price Prediction Using Machine Learning and LSTM-Based Deep Learning Models', 'Predictive intraday correlations in stable and volatile market environments: Evidence from deep learning', 'Token-Based Adaptive Time-Series Prediction by Ensembling Linear and Non-linear Estimators: A Machine Learning Approach for Predictive Analytics on big Stock Data', 'A survey of forex and stock price prediction using deep learning', 'Deep learning for stock market prediction', 'A stock price prediction method based on deep learning technology']\n",
      "[nan, '10.1051/e3sconf/202021402050', '10.1007/s10489-018-1282-3', '10.1109/BigData47090.2019.9005523', '10.1108/IJICC-10-2018-0145', '10.1109/INCET49848.2020.9154061', '10.14311/NNW.2018.28.003', '10.1109/icieect.2017.7916583', '10.1109/ICACITE51222.2021.9404642', '10.1007/s10614-020-10013-5', '10.14201/adcaij20198497116', '10.1007/s40745-019-00230-7', '10.23919/EECSI48112.2019.8977075', '10.1109/ICACAT.2018.8933727', '10.1088/1742-6596/1916/1/012175', '10.1080/24751839.2018.1431447', '10.1109/SSCI.2017.8285188', '10.1109/IJCNN48605.2020.9206704', '10.1109/ICSESS.2016.7883040', '10.1109/ICBDA51983.2021.9403037', '10.1109/ICECA49313.2020.9297644', '10.1007/978-3-319-93034-3_22', '10.1007/s00521-020-05094-0', '10.1155/2021/6658516', '10.1088/1757-899x/1116/1/012189', '10.1155/2020/2604915', '10.3390/info11060332', '10.31449/INF.V44I4.3159', '10.1155/2020/4247587', '10.1109/IEMCON51383.2020.9284879', '10.1057/s41260-020-00167-0', '10.3390/fi12110202', '10.19101/ijacr.pid77', '10.1016/j.eswa.2019.113042', '10.1007/s13369-017-2922-3', '10.3390/SU12166399', '10.1007/s00521-019-04231-8', '10.1007/s00521-016-2303-y', '10.1109/ECAI50035.2020.9223142', '10.1109/ICICICT46008.2019.8993160', '10.3390/su13094896', '10.1109/EBBT.2019.8741818', '10.1109/IRC.2018.00082', '10.1186/s40537-017-0111-6', '10.1007/s10489-020-01839-5', nan, '10.3390/APP10155334', '10.1007/s10489-018-1308-x', '10.1155/2019/4132485', '10.3390/en12050950', '10.1007/s00521-018-3652-5', '10.1109/EICT48899.2019.9068850', '10.1109/ICCSDET.2018.8821178', '10.1109/icaccs51430.2021.9441850', '10.1007/s11042-016-4159-7', '10.15837/ijccc.2016.3.2009', '10.1371/journal.pone.0180944', '10.1155/2019/4324878', '10.1109/ICSET51301.2020.9265146', '10.1186/s40854-019-0138-0', '10.1109/TII.2018.2794389', '10.1016/j.eswa.2017.04.030', nan, '10.1002/isaf.1459', '10.1186/s40537-020-00333-6', nan, '10.1155/2020/3589198', '10.1155/2014/318524', '10.1007/s00521-019-04572-4', '10.1002/cpe.6076', nan, '10.1088/1757-899x/1042/1/012021', nan, '10.14704/web/v16i2/a195', nan, '10.1109/ICSSSM.2018.8464968', '10.7906/indecs.18.4.7', '10.1155/2020/8285149', '10.1007/s00500-019-04347-y', '10.1108/ajar-09-2018-0032', '10.3390/en11113089', '10.1007/s00521-016-2304-x', '10.1007/s00521-019-04319-1', '10.1109/IIT50501.2020.9299063', '10.1109/ICICT50816.2021.9358537', '10.1155/2019/7816154', '10.1155/2021/6647534', '10.3390/land9120487', '10.1016/j.eswa.2020.114444', nan, nan, '10.1155/2021/5560886', '10.1088/1742-6596/1804/1/012008', '10.1109/ICSCET.2018.8537242', '10.1155/2021/5511802', '10.1007/s00500-020-05516-0', '10.3390/e23040440', '10.1109/IGESSC50231.2020.9285163', '10.1109/WOCN45266.2019.8995080', '10.1016/j.eswa.2019.04.038', nan, '10.3390/su9060899', '10.1109/CITISIA50690.2020.9371852', '10.1109/SSCI.2018.8628854', '10.1109/ICSESS47205.2019.9040833', '10.1155/2021/5522375', '10.1109/SITA.2016.7772259', nan, '10.1155/2013/659809', '10.1109/Confluence51648.2021.9377158', '10.3390/en12122251', nan, '10.1109/MSIEID52046.2020.00051', '10.1155/2021/5527615', '10.3390/SU12166325', '10.1155/2019/9067367', '10.1155/2020/5803407', '10.1007/s00500-020-04788-w', '10.1080/0952813X.2019.1620870', '10.1109/RTEICT.2017.8256643', '10.1155/2019/9190273', nan, '10.15837/ijccc.2018.2.3034', '10.7717/peerj-cs.476', '10.3390/sym13030443', '10.1109/NILES50944.2020.9257950', '10.1109/MSIEID52046.2020.00029', '10.1109/CIMCA.2018.8739647', '10.2139/ssrn.3502624', '10.23919/PICMET.2018.8481802', '10.1155/2020/2746845', '10.1145/3159652.3159690', '10.1007/978-981-16-0419-5_8', '10.1016/j.physa.2020.124392', '10.1109/ICMLA.2018.00242', '10.3390/ASI4010009', '10.3390/E22080840', '10.1108/ijcs-05-2020-0012']\n"
     ]
    }
   ],
   "source": [
    "# initialize list of article in proquest central\n",
    "proquest_central_article_list = extract_pandasdf_column1_row_values_based_on_column2_value(filtered_article_name_source_name, \"Proquest central\")\n",
    "proquest_central_doi_list = extract_pandasdf_column1_row_values_based_on_column2_value(filtered_article_name_source_name, \"Proquest central\", column1name = \"doi\")"
   ]
  },
  {
   "cell_type": "code",
   "execution_count": 204,
   "id": "420a9be2",
   "metadata": {},
   "outputs": [],
   "source": [
    "# Stable configuration\n",
    "PROQUEST_CENTRAL_WEB_LINK = \"https://www-proquest-com-christuniversity.knimbus.com/central/index\"\n",
    "PROQUEST_CENTRAL_FOLDERPATH = \"/home/chaudharyubuntu/Desktop/systematic_review_python_code/Get_full_text/downloadedArticles/Proquest central\"\n",
    "# Path of Dynamic web element\n",
    "proquest_central_search_inputbox_xpath = \"//textarea[@id='searchTerm']\"\n",
    "proquest_central_search_button_xpath = \"//span[@class='uxf-icon uxf-search']\"\n",
    "proquest_central_pdf_button_xpath = \"//a[@title='Full text - PDF from ABI/INFORM Global and other databases']\"\n",
    "proquest_central_pdf_download_button_xpath = \"//a[@class='tool-option-link pdf-download']\"\n",
    "proquest_central_pdf_download_button_xpath2 = \"//span[@class='uxf-icon uxf-download']\"\n",
    "proquest_central_pdf_download_button_xpath3 = \"//a[@id='downloadPDFLink']\"\n",
    "proquest_central_pdf_download_button_xpath4 = \"//span[@aria-label='Download PDF']\"\n"
   ]
  },
  {
   "cell_type": "code",
   "execution_count": 215,
   "id": "70c02e5a",
   "metadata": {},
   "outputs": [],
   "source": []
  },
  {
   "cell_type": "code",
   "execution_count": null,
   "id": "362db561",
   "metadata": {},
   "outputs": [],
   "source": []
  },
  {
   "cell_type": "code",
   "execution_count": 156,
   "id": "fe31b9c1",
   "metadata": {},
   "outputs": [
    {
     "name": "stdout",
     "output_type": "stream",
     "text": [
      "trying to download: Harvesting social media sentiment analysis to enhance stock market prediction using deep learning\n",
      "Sleeping for 11.7\n",
      "Sleeping for 11.1\n",
      "download 1\n",
      "Sleeping for 9.4\n",
      "file renamed and moved\n",
      "trying to download: Financial information asymmetry: Using deep learning algorithms to predict financial distress\n",
      "Sleeping for 7.0\n",
      "Sleeping for 15.3\n",
      "download 1\n",
      "Sleeping for 7.1\n",
      "file renamed and moved\n",
      "trying to download: Deep Learning-Based Stock Price Prediction Using LSTM and Bi-Directional LSTM Model\n",
      "Sleeping for 7.5\n",
      "Sleeping for 5.7\n",
      "download 1\n",
      "download 2\n",
      "download 3\n",
      "download 4\n",
      "could not find the download pdf button\n",
      "Sleeping for 12.5\n",
      "increasing the index:  126\n",
      "trying to download: Detection of anomaly stock price based on time series deep learning models\n",
      "Sleeping for 6.3\n",
      "Sleeping for 11.7\n",
      "download 1\n",
      "download 2\n",
      "download 3\n",
      "download 4\n",
      "could not find the download pdf button\n",
      "Sleeping for 11.4\n",
      "increasing the index:  127\n",
      "trying to download: Share Price Prediction using Machine Learning Technique\n",
      "Sleeping for 5.1\n",
      "Sleeping for 7.7\n",
      "download 1\n",
      "download 2\n",
      "download 3\n",
      "download 4\n",
      "could not find the download pdf button\n",
      "Sleeping for 12.4\n",
      "increasing the index:  128\n",
      "trying to download: A Robust Predictive Model for Stock Price Prediction Using Deep Learning and Natural Language Processing\n",
      "Sleeping for 14.5\n",
      "Sleeping for 13.8\n",
      "download 1\n",
      "download 2\n",
      "download 3\n",
      "download 4\n",
      "could not find the download pdf button\n",
      "Sleeping for 13.9\n",
      "increasing the index:  129\n",
      "trying to download: An algorithm for supporting decision making in stock investment through opinion mining and machine learning\n",
      "Sleeping for 5.0\n",
      "Sleeping for 15.0\n",
      "download 1\n",
      "download 2\n",
      "download 3\n",
      "download 4\n",
      "could not find the download pdf button\n",
      "Sleeping for 10.7\n",
      "increasing the index:  130\n",
      "trying to download: Deep Learning for Price Movement Prediction Using Convolutional Neural Network and Long Short-Term Memory\n",
      "Sleeping for 9.5\n",
      "Sleeping for 13.7\n",
      "download 1\n",
      "Sleeping for 11.9\n",
      "file renamed and moved\n",
      "trying to download: Listening to chaotic whispers: A deep learning framework for news-oriented Stock trend prediction\n",
      "Sleeping for 11.4\n",
      "Sleeping for 13.5\n",
      "download 1\n",
      "download 2\n",
      "download 3\n",
      "download 4\n",
      "could not find the download pdf button\n",
      "Sleeping for 12.4\n",
      "increasing the index:  132\n",
      "trying to download: Stock Price Prediction Using Machine Learning and LSTM-Based Deep Learning Models\n",
      "Sleeping for 12.1\n",
      "Sleeping for 12.9\n",
      "download 1\n",
      "download 2\n",
      "download 3\n",
      "download 4\n",
      "could not find the download pdf button\n",
      "Sleeping for 9.0\n",
      "increasing the index:  133\n",
      "trying to download: Predictive intraday correlations in stable and volatile market environments: Evidence from deep learning\n",
      "Sleeping for 7.6\n",
      "Sleeping for 11.1\n",
      "download 1\n",
      "download 2\n",
      "download 3\n",
      "download 4\n",
      "could not find the download pdf button\n",
      "Sleeping for 15.2\n",
      "increasing the index:  134\n",
      "trying to download: Token-Based Adaptive Time-Series Prediction by Ensembling Linear and Non-linear Estimators: A Machine Learning Approach for Predictive Analytics on big Stock Data\n",
      "Sleeping for 14.7\n",
      "Sleeping for 12.8\n",
      "download 1\n",
      "download 2\n",
      "download 3\n",
      "download 4\n",
      "could not find the download pdf button\n",
      "Sleeping for 12.3\n",
      "increasing the index:  135\n",
      "trying to download: A survey of forex and stock price prediction using deep learning\n",
      "Sleeping for 14.2\n",
      "Sleeping for 9.0\n",
      "download 1\n",
      "Sleeping for 5.3\n",
      "file renamed and moved\n",
      "trying to download: Deep learning for stock market prediction\n",
      "Sleeping for 12.9\n",
      "Sleeping for 12.3\n",
      "download 1\n",
      "download 2\n",
      "download 3\n",
      "download 4\n",
      "could not find the download pdf button\n",
      "Sleeping for 10.6\n",
      "increasing the index:  137\n"
     ]
    }
   ],
   "source": [
    "# Automated loop\n",
    "loop = True\n",
    "while loop:\n",
    "    \n",
    "    try:\n",
    "        if index == int(len(proquest_central_article_list) - 1):\n",
    "            loop = False\n",
    "            break\n",
    "        \n",
    "        driver.get(PROQUEST_CENTRAL_WEB_LINK)\n",
    "\n",
    "        article_name = proquest_central_article_list[index]\n",
    "        print(f\"trying to download: {article_name}\")\n",
    "        write_in_inputbox(\"xpath\", proquest_central_search_inputbox_xpath, article_name)\n",
    "\n",
    "    \n",
    "        click_on_button(\"xpath\", proquest_central_search_button_xpath)\n",
    "        sleep_for_random_time()\n",
    "    \n",
    "        click_on_button(\"xpath\", \"//h3[@id='result-header-1']//div[@class='truncatedResultsTitle']\")\n",
    "        sleep_for_random_time()\n",
    "        \n",
    "        try:\n",
    "            print(\"download 1\")\n",
    "            button = driver.find_element_by_xpath(proquest_central_pdf_download_button_xpath)\n",
    "            button.click()\n",
    "        except:\n",
    "            try:\n",
    "                print(\"download 2\")\n",
    "                button = driver.find_element_by_xpath(proquest_central_pdf_download_button_xpath2)\n",
    "                button.click()\n",
    "        \n",
    "            except:\n",
    "                try:\n",
    "                    print(\"download 3\")\n",
    "                    button = driver.find_element_by_xpath(proquest_central_pdf_download_button_xpath3)\n",
    "                    button.click()\n",
    "                    \n",
    "                except:\n",
    "                    try:\n",
    "                        print(\"download 4\")\n",
    "                        button = driver.find_element_by_xpath(proquest_central_pdf_download_button_xpath4)\n",
    "                        button.click()\n",
    "                    \n",
    "                    except:\n",
    "                        print(\"could not find the download pdf button\")\n",
    "        sleep_for_random_time()\n",
    "\n",
    "        file_rename_and_moving(article_name, DOWNLOAD_LOCATION, PROQUEST_CENTRAL_FOLDERPATH)\n",
    "        index += 1\n",
    "    except:\n",
    "        index += 1\n",
    "        print(\"increasing the index: \",index)"
   ]
  },
  {
   "cell_type": "code",
   "execution_count": 40,
   "id": "ccca2202",
   "metadata": {},
   "outputs": [
    {
     "data": {
      "text/plain": [
       "10"
      ]
     },
     "execution_count": 40,
     "metadata": {},
     "output_type": "execute_result"
    }
   ],
   "source": [
    "An Efficient Prediction Model based on Machine Learning Techniques for Prediction of the Stock Market\n",
    "\n",
    "Deep learning-based corporate performance prediction model considering technical capability\n",
    "\n",
    "Improving Deep Learning for Forecasting Accuracy in Financial Data\n",
    "\n",
    "STOCK MARKET ANALYSIS AND PRICE PREDICTION USING DEEP LEARNING AND ARTIFICIAL NEURAL NETWORKS\n",
    "\n"
   ]
  },
  {
   "cell_type": "code",
   "execution_count": 145,
   "id": "ee6b9b4d",
   "metadata": {},
   "outputs": [],
   "source": [
    "driver.get(PROQUEST_CENTRAL_WEB_LINK)"
   ]
  },
  {
   "cell_type": "code",
   "execution_count": 105,
   "id": "a41fe900",
   "metadata": {},
   "outputs": [
    {
     "name": "stdout",
     "output_type": "stream",
     "text": [
      "A stock price prediction method based on deep learning technology\n"
     ]
    },
    {
     "data": {
      "text/plain": [
       "73"
      ]
     },
     "execution_count": 105,
     "metadata": {},
     "output_type": "execute_result"
    }
   ],
   "source": [
    "print(proquest_central_article_list[index])\n",
    "proquest_central_article_list.index(\"Application of ensemble machine learning in the predictive data analytics of indian stock market\")"
   ]
  },
  {
   "cell_type": "code",
   "execution_count": 100,
   "id": "2b91f14b",
   "metadata": {},
   "outputs": [
    {
     "name": "stdout",
     "output_type": "stream",
     "text": [
      "trying to download: Multi-step short-term power consumption forecasting with a hybrid deep learning strategy\n"
     ]
    }
   ],
   "source": [
    "\n",
    "article_name = proquest_central_article_list[80]\n",
    "print(f\"trying to download: {article_name}\")\n",
    "write_in_inputbox(\"xpath\", proquest_central_search_inputbox_xpath, article_name)\n",
    "#sleep_for_random_time()\n",
    "    "
   ]
  },
  {
   "cell_type": "code",
   "execution_count": 159,
   "id": "bfa14412",
   "metadata": {},
   "outputs": [
    {
     "data": {
      "text/plain": [
       "138"
      ]
     },
     "execution_count": 159,
     "metadata": {},
     "output_type": "execute_result"
    }
   ],
   "source": [
    "len(proquest_central_article_list)"
   ]
  },
  {
   "cell_type": "code",
   "execution_count": 160,
   "id": "c4d1dbda",
   "metadata": {},
   "outputs": [],
   "source": [
    "click_on_button(\"xpath\", proquest_central_search_button_xpath)\n",
    "#sleep_for_random_time()\n",
    "    "
   ]
  },
  {
   "cell_type": "code",
   "execution_count": 161,
   "id": "1a2e292c",
   "metadata": {},
   "outputs": [
    {
     "name": "stdout",
     "output_type": "stream",
     "text": [
      "element locator path can not be found\n"
     ]
    }
   ],
   "source": [
    "click_on_button(\"xpath\", \"//h3[@id='result-header-1']//div[@class='truncatedResultsTitle']\")\n"
   ]
  },
  {
   "cell_type": "code",
   "execution_count": 31,
   "id": "6defed63",
   "metadata": {},
   "outputs": [],
   "source": [
    "click_on_button(\"xpath\", proquest_central_pdf_download_button_xpath)"
   ]
  },
  {
   "cell_type": "code",
   "execution_count": 107,
   "id": "41105b72",
   "metadata": {},
   "outputs": [
    {
     "name": "stdout",
     "output_type": "stream",
     "text": [
      "file renamed and moved\n"
     ]
    }
   ],
   "source": [
    "article_name = proquest_central_article_list[73]\n",
    "file_rename_and_moving(article_name, DOWNLOAD_LOCATION, PROQUEST_CENTRAL_FOLDERPATH)"
   ]
  },
  {
   "cell_type": "code",
   "execution_count": 26,
   "id": "b11efaae",
   "metadata": {},
   "outputs": [],
   "source": [
    "index += 1"
   ]
  },
  {
   "cell_type": "markdown",
   "id": "b25c16b7",
   "metadata": {},
   "source": [
    "## Emerald insight: Completed\n",
    " it is not possible to use an API to download articles in bulk on the Emerald platform,"
   ]
  },
  {
   "cell_type": "code",
   "execution_count": 384,
   "id": "6e02d65c",
   "metadata": {},
   "outputs": [
    {
     "name": "stdout",
     "output_type": "stream",
     "text": [
      "[\"Performing technical analysis to predict Japan REITs' movement through ensemble learning\", 'A study of risk-adjusted stock selection models using genetic algorithms', 'Constructing ZSCORE-based financial crisis warning models using fruit fly optimization algorithm and general regression neural network', 'A stock price prediction method based on deep learning technology', 'A big data Bayesian approach to earnings profitability in the S&P 500', 'Detecting anomalies in financial statements using machine learning algorithm', 'Predictability of HK-REITs returns using artificial neural network', 'Dynamic credit scoring using B&B with incremental-SVM-ensemble', 'An investigational analysis on forecasting intraday values', 'An information management approach for supply chain disruption recovery', 'Demand forecasting in the beauty industry using fuzzy inference systems', 'Mixed modified fruit fly optimization algorithm with general regression neural network to build oil and gold prices forecasting model', 'How data analytics is changing entrepreneurial opportunities?', 'Forecasting container throughput with long short-term memory networks']\n",
      "['10.1108/JPIF-01-2020-0007', '10.1108/EC-11-2012-0293', '10.1108/K-08-2015-0208', '10.1108/ijcs-05-2020-0012', '10.1108/prr-04-2017-0023', '10.1108/ajar-09-2018-0032', '10.1108/JPIF-07-2019-0090', '10.1108/K-02-2014-0036', '10.1108/BIJ-11-2018-0361', '10.1108/IJLM-11-2018-0294', '10.1108/JM2-03-2019-0050', '10.1108/K-02-2014-0024', '10.1108/IJIS-09-2017-0092', '10.1108/IMDS-07-2019-0370']\n"
     ]
    }
   ],
   "source": [
    "# initialize list of article in emerald insight\n",
    "emerald_insight_article_list = extract_pandasdf_column1_row_values_based_on_column2_value(filtered_article_name_source_name, \"emerald insight\")\n",
    "emerald_insight_doi_list = extract_pandasdf_column1_row_values_based_on_column2_value(filtered_article_name_source_name, \"emerald insight\", column1name = \"doi\")"
   ]
  },
  {
   "cell_type": "code",
   "execution_count": 42,
   "id": "abc684c9",
   "metadata": {},
   "outputs": [],
   "source": [
    "# Stable configuration\n",
    "EMERALD_INSIGHT_WEB_LINK = \"https://www-emerald-com-christuniversity.knimbus.com/insight/search?q=10.1108%2FJPIF-01-2020-0007&showAll=true\"\n",
    "EMERALD_INSIGHT_FOLDERPATH = \"/home/chaudharyubuntu/Desktop/systematic_review_python_code/Get_full_text/downloadedArticles/emerald insight\"\n",
    "# Path of Dynamic web element\n",
    "emerald_insight_search_inputbox_xpath = \"//input[@placeholder='Enter your search terms here']\"\n",
    "emerald_insight_search_button_xpath = \"//button[@aria-label='Submit']//span[@role='img']\"\n",
    "emerald_insight_pdf_button_xpath = \"//span[@class='far fa-file-pdf icon-small mr-2']\""
   ]
  },
  {
   "cell_type": "code",
   "execution_count": 395,
   "id": "cca1b36d",
   "metadata": {},
   "outputs": [
    {
     "name": "stdout",
     "output_type": "stream",
     "text": [
      "trying to download: Predictability of HK-REITs returns using artificial neural network\n",
      "Sleeping for 10.1\n",
      "Sleeping for 10.7\n",
      "Sleeping for 6.2\n",
      "file renamed and moved\n",
      "trying to download: Dynamic credit scoring using B&B with incremental-SVM-ensemble\n",
      "Sleeping for 9.0\n",
      "Sleeping for 6.1\n",
      "Sleeping for 9.1\n",
      "file renamed and moved\n",
      "trying to download: An investigational analysis on forecasting intraday values\n",
      "Sleeping for 12.8\n",
      "Sleeping for 13.4\n",
      "Sleeping for 7.7\n",
      "file renamed and moved\n",
      "trying to download: An information management approach for supply chain disruption recovery\n",
      "Sleeping for 10.7\n",
      "Sleeping for 9.3\n",
      "Sleeping for 9.4\n",
      "file renamed and moved\n",
      "trying to download: Demand forecasting in the beauty industry using fuzzy inference systems\n",
      "Sleeping for 9.9\n",
      "Sleeping for 9.7\n",
      "Sleeping for 7.2\n",
      "file renamed and moved\n",
      "trying to download: Mixed modified fruit fly optimization algorithm with general regression neural network to build oil and gold prices forecasting model\n",
      "Sleeping for 11.0\n",
      "Sleeping for 6.0\n",
      "Sleeping for 13.1\n",
      "file renamed and moved\n",
      "trying to download: How data analytics is changing entrepreneurial opportunities?\n",
      "Sleeping for 12.9\n",
      "Sleeping for 14.5\n",
      "Sleeping for 9.3\n",
      "file renamed and moved\n",
      "trying to download: Forecasting container throughput with long short-term memory networks\n",
      "Sleeping for 10.8\n",
      "Sleeping for 15.0\n",
      "Sleeping for 13.6\n",
      "file renamed and moved\n"
     ]
    }
   ],
   "source": [
    "# Automated loop\n",
    "index = len(os.listdir(EMERALD_INSIGHT_FOLDERPATH))\n",
    "\n",
    "for article_name in emerald_insight_article_list[index:]:\n",
    "    doi_index = emerald_insight_article_list.index(str(article_name))\n",
    "    print(f\"trying to download: {article_name}\")\n",
    "    doi = emerald_insight_doi_list[doi_index]\n",
    "    write_in_inputbox(\"xpath\", emerald_insight_search_inputbox_xpath, doi)\n",
    "    sleep_for_random_time()\n",
    "    click_on_button(\"xpath\", emerald_insight_search_button_xpath)\n",
    "    scroll_page(250, 200)\n",
    "    sleep_for_random_time()\n",
    "    click_on_button(\"xpath\", emerald_insight_pdf_button_xpath)\n",
    "    sleep_for_random_time()\n",
    "    file_rename_and_moving(article_name, DOWNLOAD_LOCATION, EMERALD_INSIGHT_FOLDERPATH)"
   ]
  },
  {
   "cell_type": "code",
   "execution_count": 383,
   "id": "c8027019",
   "metadata": {},
   "outputs": [],
   "source": [
    "driver.get(EMERALD_INSIGHT_WEB_LINK)"
   ]
  },
  {
   "cell_type": "code",
   "execution_count": 387,
   "id": "703da928",
   "metadata": {},
   "outputs": [],
   "source": [
    "index = len(os.listdir(EMERALD_INSIGHT_FOLDERPATH))\n",
    "\n",
    "doi = emerald_insight_doi_list[index]\n",
    "write_in_inputbox(\"xpath\", emerald_insight_search_inputbox_xpath, doi)"
   ]
  },
  {
   "cell_type": "code",
   "execution_count": 389,
   "id": "04083706",
   "metadata": {},
   "outputs": [],
   "source": [
    "click_on_button(\"xpath\", emerald_insight_search_button_xpath)"
   ]
  },
  {
   "cell_type": "code",
   "execution_count": 391,
   "id": "1a85baf9",
   "metadata": {},
   "outputs": [],
   "source": [
    "click_on_button(\"xpath\", emerald_insight_pdf_button_xpath)"
   ]
  },
  {
   "cell_type": "code",
   "execution_count": 392,
   "id": "1dc7ea9a",
   "metadata": {},
   "outputs": [
    {
     "name": "stdout",
     "output_type": "stream",
     "text": [
      "file renamed and moved\n"
     ]
    }
   ],
   "source": [
    "article_index = len(os.listdir(EMERALD_INSIGHT_FOLDERPATH))\n",
    "article_name = emerald_insight_article_list[article_index]\n",
    "file_rename_and_moving(article_name, DOWNLOAD_LOCATION, EMERALD_INSIGHT_FOLDERPATH)"
   ]
  },
  {
   "cell_type": "markdown",
   "id": "53624727",
   "metadata": {},
   "source": [
    "## full text download : in systematic_review_papers folder\n",
    "- taylor and francis completed manually because articles were less than 15.\n",
    "I can advise that there is no Python API or query tools that we support in the way indicated in your email.\n",
    "\n",
    "There are download limits in place to prevent continuous downloads and fraudulent activity.\n",
    "\n",
    "If you have a direct association with the University and a formal confirmation can be obtained to support this activity from the University, we could potentially look at opening up one specific IP address from the university for text data mining for a very short period of time.\n",
    "\n",
    "The queries would be restricted to accessing only the license entitlements the university have and subject to approval that this activity can take place beforehand.\n",
    "\n",
    "We would also require as part of the request, why this information is required prior to looking into opening this up.\n",
    "- sage journal completed manually because articles were less than 15.\n"
   ]
  },
  {
   "cell_type": "code",
   "execution_count": null,
   "id": "958833c6",
   "metadata": {},
   "outputs": [],
   "source": []
  },
  {
   "cell_type": "markdown",
   "id": "83ba6e35",
   "metadata": {},
   "source": [
    "#### DOAJ\n",
    "Here you have the API documentation. I hope it helps,\n",
    "https://doaj.org/api/v2/docs"
   ]
  },
  {
   "cell_type": "markdown",
   "id": "7b1917bb",
   "metadata": {},
   "source": [
    "# Missed articles Manual downloading"
   ]
  },
  {
   "cell_type": "code",
   "execution_count": 10,
   "id": "db914463",
   "metadata": {},
   "outputs": [],
   "source": [
    "missed_articles_name_source_name_df = pd.read_csv(\"/home/chaudharyubuntu/Desktop/systematic_review_python_code/validation/missed_article_name_and_source_name_df.csv\")"
   ]
  },
  {
   "cell_type": "code",
   "execution_count": 11,
   "id": "c5079011",
   "metadata": {},
   "outputs": [
    {
     "data": {
      "text/html": [
       "<div>\n",
       "<style scoped>\n",
       "    .dataframe tbody tr th:only-of-type {\n",
       "        vertical-align: middle;\n",
       "    }\n",
       "\n",
       "    .dataframe tbody tr th {\n",
       "        vertical-align: top;\n",
       "    }\n",
       "\n",
       "    .dataframe thead th {\n",
       "        text-align: right;\n",
       "    }\n",
       "</style>\n",
       "<table border=\"1\" class=\"dataframe\">\n",
       "  <thead>\n",
       "    <tr style=\"text-align: right;\">\n",
       "      <th></th>\n",
       "      <th>Unnamed: 0</th>\n",
       "      <th>article_name</th>\n",
       "      <th>source_name</th>\n",
       "    </tr>\n",
       "  </thead>\n",
       "  <tbody>\n",
       "    <tr>\n",
       "      <th>0</th>\n",
       "      <td>0</td>\n",
       "      <td>forecasting stock market movements using vario...</td>\n",
       "      <td>ACM digital library</td>\n",
       "    </tr>\n",
       "    <tr>\n",
       "      <th>1</th>\n",
       "      <td>1</td>\n",
       "      <td>decision trees in stock market analysis  const...</td>\n",
       "      <td>ACM digital library</td>\n",
       "    </tr>\n",
       "    <tr>\n",
       "      <th>2</th>\n",
       "      <td>2</td>\n",
       "      <td>using twitter attribute information to predict...</td>\n",
       "      <td>Arxiv</td>\n",
       "    </tr>\n",
       "    <tr>\n",
       "      <th>3</th>\n",
       "      <td>3</td>\n",
       "      <td>variety and volatility in financial markets</td>\n",
       "      <td>Arxiv</td>\n",
       "    </tr>\n",
       "    <tr>\n",
       "      <th>4</th>\n",
       "      <td>4</td>\n",
       "      <td>financial market directional forecasting with ...</td>\n",
       "      <td>Arxiv</td>\n",
       "    </tr>\n",
       "    <tr>\n",
       "      <th>...</th>\n",
       "      <td>...</td>\n",
       "      <td>...</td>\n",
       "      <td>...</td>\n",
       "    </tr>\n",
       "    <tr>\n",
       "      <th>80</th>\n",
       "      <td>80</td>\n",
       "      <td>on the differential analysis of enterprise val...</td>\n",
       "      <td>Proquest central</td>\n",
       "    </tr>\n",
       "    <tr>\n",
       "      <th>81</th>\n",
       "      <td>81</td>\n",
       "      <td>analysing stock market trend prediction using ...</td>\n",
       "      <td>Proquest central</td>\n",
       "    </tr>\n",
       "    <tr>\n",
       "      <th>82</th>\n",
       "      <td>82</td>\n",
       "      <td>predictive intraday correlations in stable and...</td>\n",
       "      <td>Proquest central</td>\n",
       "    </tr>\n",
       "    <tr>\n",
       "      <th>83</th>\n",
       "      <td>83</td>\n",
       "      <td>application of deep learning in stock market v...</td>\n",
       "      <td>Proquest central</td>\n",
       "    </tr>\n",
       "    <tr>\n",
       "      <th>84</th>\n",
       "      <td>84</td>\n",
       "      <td>forecasting direction of china security index ...</td>\n",
       "      <td>Science Direct</td>\n",
       "    </tr>\n",
       "  </tbody>\n",
       "</table>\n",
       "<p>85 rows × 3 columns</p>\n",
       "</div>"
      ],
      "text/plain": [
       "    Unnamed: 0                                       article_name  \\\n",
       "0            0  forecasting stock market movements using vario...   \n",
       "1            1  decision trees in stock market analysis  const...   \n",
       "2            2  using twitter attribute information to predict...   \n",
       "3            3        variety and volatility in financial markets   \n",
       "4            4  financial market directional forecasting with ...   \n",
       "..         ...                                                ...   \n",
       "80          80  on the differential analysis of enterprise val...   \n",
       "81          81  analysing stock market trend prediction using ...   \n",
       "82          82  predictive intraday correlations in stable and...   \n",
       "83          83  application of deep learning in stock market v...   \n",
       "84          84  forecasting direction of china security index ...   \n",
       "\n",
       "            source_name  \n",
       "0   ACM digital library  \n",
       "1   ACM digital library  \n",
       "2                 Arxiv  \n",
       "3                 Arxiv  \n",
       "4                 Arxiv  \n",
       "..                  ...  \n",
       "80     Proquest central  \n",
       "81     Proquest central  \n",
       "82     Proquest central  \n",
       "83     Proquest central  \n",
       "84       Science Direct  \n",
       "\n",
       "[85 rows x 3 columns]"
      ]
     },
     "execution_count": 11,
     "metadata": {},
     "output_type": "execute_result"
    }
   ],
   "source": [
    "missed_articles_name_source_name_df"
   ]
  },
  {
   "cell_type": "code",
   "execution_count": 12,
   "id": "628b2468",
   "metadata": {},
   "outputs": [
    {
     "data": {
      "text/plain": [
       "array(['ACM digital library', 'Arxiv', 'IEEE xplore', 'MDPI',\n",
       "       'Proquest central', 'Science Direct'], dtype=object)"
      ]
     },
     "execution_count": 12,
     "metadata": {},
     "output_type": "execute_result"
    }
   ],
   "source": [
    "missed_articles_name_source_name_df[\"source_name\"].unique()"
   ]
  },
  {
   "cell_type": "code",
   "execution_count": 19,
   "id": "f085007a",
   "metadata": {},
   "outputs": [
    {
     "data": {
      "text/html": [
       "<div>\n",
       "<style scoped>\n",
       "    .dataframe tbody tr th:only-of-type {\n",
       "        vertical-align: middle;\n",
       "    }\n",
       "\n",
       "    .dataframe tbody tr th {\n",
       "        vertical-align: top;\n",
       "    }\n",
       "\n",
       "    .dataframe thead th {\n",
       "        text-align: right;\n",
       "    }\n",
       "</style>\n",
       "<table border=\"1\" class=\"dataframe\">\n",
       "  <thead>\n",
       "    <tr style=\"text-align: right;\">\n",
       "      <th></th>\n",
       "      <th>Unnamed: 0</th>\n",
       "      <th>article_name</th>\n",
       "    </tr>\n",
       "    <tr>\n",
       "      <th>source_name</th>\n",
       "      <th></th>\n",
       "      <th></th>\n",
       "    </tr>\n",
       "  </thead>\n",
       "  <tbody>\n",
       "    <tr>\n",
       "      <th>ACM digital library</th>\n",
       "      <td>2</td>\n",
       "      <td>2</td>\n",
       "    </tr>\n",
       "    <tr>\n",
       "      <th>Arxiv</th>\n",
       "      <td>28</td>\n",
       "      <td>28</td>\n",
       "    </tr>\n",
       "    <tr>\n",
       "      <th>IEEE xplore</th>\n",
       "      <td>8</td>\n",
       "      <td>8</td>\n",
       "    </tr>\n",
       "    <tr>\n",
       "      <th>MDPI</th>\n",
       "      <td>2</td>\n",
       "      <td>2</td>\n",
       "    </tr>\n",
       "    <tr>\n",
       "      <th>Proquest central</th>\n",
       "      <td>44</td>\n",
       "      <td>44</td>\n",
       "    </tr>\n",
       "    <tr>\n",
       "      <th>Science Direct</th>\n",
       "      <td>1</td>\n",
       "      <td>1</td>\n",
       "    </tr>\n",
       "  </tbody>\n",
       "</table>\n",
       "</div>"
      ],
      "text/plain": [
       "                     Unnamed: 0  article_name\n",
       "source_name                                  \n",
       "ACM digital library           2             2\n",
       "Arxiv                        28            28\n",
       "IEEE xplore                   8             8\n",
       "MDPI                          2             2\n",
       "Proquest central             44            44\n",
       "Science Direct                1             1"
      ]
     },
     "execution_count": 19,
     "metadata": {},
     "output_type": "execute_result"
    }
   ],
   "source": [
    "missed_articles_name_source_name_df.groupby(\"source_name\").nunique()"
   ]
  },
  {
   "cell_type": "code",
   "execution_count": 48,
   "id": "a5b24a2b",
   "metadata": {},
   "outputs": [],
   "source": [
    "not_accessible = []"
   ]
  },
  {
   "cell_type": "code",
   "execution_count": 24,
   "id": "072e4a46",
   "metadata": {},
   "outputs": [
    {
     "name": "stdout",
     "output_type": "stream",
     "text": [
      "['forecasting stock market movements using various kernel functions in support vector machine', 'decision trees in stock market analysis  construction and validation']\n",
      "['using twitter attribute information to predict stock prices', 'variety and volatility in financial markets', 'financial market directional forecasting with stacked denoising autoencoder', 'sparse index tracking based on  l        model and algorithm', 'a network analysis of the volatility of high dimensional financial series', 'predictive intraday correlations in stable and volatile market environments  evidence from deep learning', 'forecasting directional movements of stock prices for intraday trading using lstm and random forests', 'stock market microstructure inference via multi agent reinforcement learning', 'time varying neural network for stock return prediction', 'when bots take over the stock market  evasion attacks against algorithmic traders', 'model based reinforcement learning for predictions and control for limit order books', 'the predictive power of zero intelligence in financial markets', 'a stochastic time series model for predicting financial trends using nlp', 'multi task learning for financial forecasting', 'hybrid symbiotic organisms search feedforward neural network model for stock price prediction', 'comparative study of financial time series prediction by artificial neural network with gradient descent learning', 'predicting indian stock market using the psycho linguistic features of financial news', 'a novel twitter sentiment analysis model with baseline correlation for financial market prediction with improved efficiency', 'a tensor based sub mode coordinate algorithm for stock prediction', 'stochastic volatility in a quantitative model of stock market returns', 'deep learning can replicate adaptive traders in a limit order book financial market', 'discrete wavelet transform based prediction of stock index  a study on national stock exchange fifty index', 'predicting intraday jumps in stock prices using liquidity measures and technical indicators', 'deep recurrent factor model  interpretable non linear and time varying multi factor model', 'image processing tools for financial time series classification', 'deep factor model  explaining deep learning decisions for forecasting stock returns with layer wise relevance propagation', 'a novel ensemble deep learning model for stock prediction based on stock prices and news', 'a novel improved fuzzy support vector machine based stock price trend forecast model']\n",
      "['a prediction model of cnn tlstm for usd cny exchange rate prediction', 'stock market trend prediction using high order information of time series', 'detection of financial opportunities in micro blogging data with a stacked classification system', 'stock selection with a novel sigmoid based mixed discrete continuous differential evolution algorithm', 'fractional neuro sequential arfima lstm for financial market forecasting', 'forward forecast of stock price using sliding window metaheuristic optimized machine learning regression', 'an adaptive financial trading system using deep reinforcement learning with candlestick decomposing features', 'a dual attention based stock price trend prediction model with dual features']\n",
      "['new dataset for forecasting realized volatility  is the tokyo stock exchange co location dataset helpful for expansion of the heterogeneous autoregressive model in the japanese stock market ', 'prediction of stock performance using deep neural networks']\n",
      "['detection of anomaly stock price based on time series deep learning models', 'machine learning on stock price movement forecast  the sample of the taiwan stock exchange', 'machine learning for predicting stock market movement using news headlines', 'stock price prediction with arima and deep learning models', 'carbon price forecasting based on improved ceemdan and extreme learning machine optimized by sparrow search algorithm', 'machine learning techniques for short term stock movements classification for moroccan stock exchange', 'determining the impact of window length on time series forecasting using deep learning', 'deep learning can replicate adaptive traders in a limit order book financial market', 'prediction of stock prices using machine learning  regression  classification  algorithms', 'token based adaptive time series prediction by ensembling linear and non linear estimators  a machine learning approach for predictive analytics on big stock data', 'deep learning with stock indicators and two dimensional principal component analysis for closing price prediction system', 'stock movement prediction with sentiment analysis based on deep learning networks', 'using machine learning to predict realized variance', 'a deep learning framework for financial time series using stacked autoencoders and long short term memory', 'deep learning based forecasting in stock market with big data analytics', 'stock market prediction based on social sentiments using machine learning', 'deep learning networks for stock market analysis and prediction  methodology  data representations  and case studies', 'a deep learning based stock trading model with   d cnn trend detection', 'deep learning based non linear regression for stock prediction', 'prediction of stock market performance by using machine learning techniques', 'forecasting daily stock trend using multi filter feature selection and deep learning', 'evaluation of tree based ensemble machine learning models in predicting stock price direction of movement', 'novel volatility forecasting using deep learning long short term memory recurrent neural networks', 'stock price prediction  a comparative study between traditional statistical approach and machine learning approach', 'robo advisors  machine learning in trend following etf investments', 'sentiment driven price prediction of the bitcoin based on statistical and deep learning approaches', 'comparative analysis of machine learning algorithm to forecast indian stock market', 'an algorithm for supporting decision making in stock investment through opinion mining and machine learning', 'deep learning based stock price prediction using lstm and bi directional lstm model', 'research on market stock index prediction based on network security and deep learning', 'an intelligent market capitalization predictive system using deep learning', 'stock market decision support modeling with tree based adaboost ensemble machine learning models', 'portfolio formation with preselection using deep learning from long term financial data', 'finding expert authors in financial forum using deep learning methods', 'an efficient prediction model based on machine learning techniques for prediction of the stock market', 'a novel ensemble deep learning model for stock prediction based on stock prices and news', 'forward forecast of stock price using sliding window metaheuristic optimized machine learning regression', 'predicting the unpredictable  an application of machine learning algorithms in indian stock market', 'recursive stock price prediction with machine learning and web scrapping for specified time period', 'stock market analysis and price prediction using deep learning and artificial neural networks', 'on the differential analysis of enterprise valuation methods as a guideline for unlisted companies assessment  ii   applying machine learning techniques for unbiased enterprise value assessment', 'analysing stock market trend prediction using machine deep learning models  a comprehensive review', 'predictive intraday correlations in stable and volatile market environments  evidence from deep learning', 'application of deep learning in stock market valuation index forecasting']\n",
      "['forecasting direction of china security index     movement with least squares support vector machine']\n"
     ]
    }
   ],
   "source": [
    "missed_ACMdigitallibrary_article_list = extract_pandasdf_column1_row_values_based_on_column2_value(missed_articles_name_source_name_df, \"ACM digital library\")\n",
    "missed_arxiv_article_list = extract_pandasdf_column1_row_values_based_on_column2_value(missed_articles_name_source_name_df, \"Arxiv\")\n",
    "missed_IEEExplore_article_list = extract_pandasdf_column1_row_values_based_on_column2_value(missed_articles_name_source_name_df, \"IEEE xplore\")\n",
    "missed_MDPI_article_list = extract_pandasdf_column1_row_values_based_on_column2_value(missed_articles_name_source_name_df, \"MDPI\")\n",
    "missed_Proquestcentral_article_list = extract_pandasdf_column1_row_values_based_on_column2_value(missed_articles_name_source_name_df, \"Proquest central\")\n",
    "missed_ScienceDirect_article_list = extract_pandasdf_column1_row_values_based_on_column2_value(missed_articles_name_source_name_df, \"Science Direct\")"
   ]
  },
  {
   "cell_type": "markdown",
   "id": "0e96062d",
   "metadata": {},
   "source": [
    "### ACMdigitallibrary missed articles"
   ]
  },
  {
   "cell_type": "code",
   "execution_count": 31,
   "id": "95c3ca27",
   "metadata": {},
   "outputs": [
    {
     "data": {
      "text/plain": [
       "['forecasting stock market movements using various kernel functions in support vector machine',\n",
       " 'decision trees in stock market analysis  construction and validation']"
      ]
     },
     "execution_count": 31,
     "metadata": {},
     "output_type": "execute_result"
    }
   ],
   "source": [
    "missed_ACMdigitallibrary_article_list"
   ]
  },
  {
   "cell_type": "code",
   "execution_count": 43,
   "id": "34eaa70a",
   "metadata": {},
   "outputs": [
    {
     "name": "stdout",
     "output_type": "stream",
     "text": [
      "file renamed and moved\n"
     ]
    }
   ],
   "source": [
    "file_rename_and_moving(missed_ACMdigitallibrary_article_list[0], DOWNLOAD_LOCATION, ACM_DIGITAL_LIBRARY_FOLDER_PATH) "
   ]
  },
  {
   "cell_type": "code",
   "execution_count": 49,
   "id": "c5be660c",
   "metadata": {},
   "outputs": [],
   "source": [
    "not_accessible.append(missed_ACMdigitallibrary_article_list[1])"
   ]
  },
  {
   "cell_type": "markdown",
   "id": "aa690295",
   "metadata": {},
   "source": [
    "### IEEE xplore missed articles"
   ]
  },
  {
   "cell_type": "code",
   "execution_count": 51,
   "id": "012c76bb",
   "metadata": {},
   "outputs": [
    {
     "data": {
      "text/plain": [
       "['a prediction model of cnn tlstm for usd cny exchange rate prediction',\n",
       " 'stock market trend prediction using high order information of time series',\n",
       " 'detection of financial opportunities in micro blogging data with a stacked classification system',\n",
       " 'stock selection with a novel sigmoid based mixed discrete continuous differential evolution algorithm',\n",
       " 'fractional neuro sequential arfima lstm for financial market forecasting',\n",
       " 'forward forecast of stock price using sliding window metaheuristic optimized machine learning regression',\n",
       " 'an adaptive financial trading system using deep reinforcement learning with candlestick decomposing features',\n",
       " 'a dual attention based stock price trend prediction model with dual features']"
      ]
     },
     "execution_count": 51,
     "metadata": {},
     "output_type": "execute_result"
    }
   ],
   "source": [
    "missed_IEEExplore_article_list"
   ]
  },
  {
   "cell_type": "code",
   "execution_count": 54,
   "id": "290ff2b5",
   "metadata": {},
   "outputs": [],
   "source": [
    "manual_index = 1"
   ]
  },
  {
   "cell_type": "code",
   "execution_count": 67,
   "id": "695c31bd",
   "metadata": {},
   "outputs": [
    {
     "data": {
      "text/plain": [
       "'a dual attention based stock price trend prediction model with dual features'"
      ]
     },
     "execution_count": 67,
     "metadata": {},
     "output_type": "execute_result"
    }
   ],
   "source": [
    "missed_IEEExplore_article_list[manual_index]"
   ]
  },
  {
   "cell_type": "code",
   "execution_count": 68,
   "id": "e9badff2",
   "metadata": {},
   "outputs": [
    {
     "ename": "ValueError",
     "evalue": "max() arg is an empty sequence",
     "output_type": "error",
     "traceback": [
      "\u001b[0;31m---------------------------------------------------------------------------\u001b[0m",
      "\u001b[0;31mValueError\u001b[0m                                Traceback (most recent call last)",
      "\u001b[0;32m<ipython-input-68-8008b0f2c9a6>\u001b[0m in \u001b[0;36m<module>\u001b[0;34m\u001b[0m\n\u001b[0;32m----> 1\u001b[0;31m \u001b[0mfile_rename_and_moving\u001b[0m\u001b[0;34m(\u001b[0m\u001b[0mmissed_IEEExplore_article_list\u001b[0m\u001b[0;34m[\u001b[0m\u001b[0mmanual_index\u001b[0m\u001b[0;34m]\u001b[0m\u001b[0;34m,\u001b[0m \u001b[0mDOWNLOAD_LOCATION\u001b[0m\u001b[0;34m,\u001b[0m \u001b[0mIEE_XPLORE_FOLDERPATH\u001b[0m\u001b[0;34m)\u001b[0m\u001b[0;34m\u001b[0m\u001b[0;34m\u001b[0m\u001b[0m\n\u001b[0m\u001b[1;32m      2\u001b[0m \u001b[0mmanual_index\u001b[0m \u001b[0;34m+=\u001b[0m \u001b[0;36m1\u001b[0m\u001b[0;34m\u001b[0m\u001b[0;34m\u001b[0m\u001b[0m\n",
      "\u001b[0;32m<ipython-input-7-d35b4a5ce471>\u001b[0m in \u001b[0;36mfile_rename_and_moving\u001b[0;34m(new_name, origin_folder_path, destination_folder_path)\u001b[0m\n\u001b[1;32m     86\u001b[0m     \"\"\"\n\u001b[1;32m     87\u001b[0m     \u001b[0mdownload_completion_wait\u001b[0m\u001b[0;34m(\u001b[0m\u001b[0morigin_folder_path\u001b[0m\u001b[0;34m,\u001b[0m \u001b[0mtimeout\u001b[0m \u001b[0;34m=\u001b[0m \u001b[0;36m300\u001b[0m\u001b[0;34m)\u001b[0m\u001b[0;34m\u001b[0m\u001b[0;34m\u001b[0m\u001b[0m\n\u001b[0;32m---> 88\u001b[0;31m     \u001b[0mfilename\u001b[0m \u001b[0;34m=\u001b[0m \u001b[0mmax\u001b[0m\u001b[0;34m(\u001b[0m\u001b[0;34m[\u001b[0m\u001b[0morigin_folder_path\u001b[0m \u001b[0;34m+\u001b[0m \u001b[0;34m\"/\"\u001b[0m \u001b[0;34m+\u001b[0m \u001b[0mf\u001b[0m \u001b[0;32mfor\u001b[0m \u001b[0mf\u001b[0m \u001b[0;32min\u001b[0m \u001b[0mos\u001b[0m\u001b[0;34m.\u001b[0m\u001b[0mlistdir\u001b[0m\u001b[0;34m(\u001b[0m\u001b[0morigin_folder_path\u001b[0m\u001b[0;34m)\u001b[0m\u001b[0;34m]\u001b[0m\u001b[0;34m,\u001b[0m\u001b[0mkey\u001b[0m\u001b[0;34m=\u001b[0m\u001b[0mos\u001b[0m\u001b[0;34m.\u001b[0m\u001b[0mpath\u001b[0m\u001b[0;34m.\u001b[0m\u001b[0mgetctime\u001b[0m\u001b[0;34m)\u001b[0m\u001b[0;34m\u001b[0m\u001b[0;34m\u001b[0m\u001b[0m\n\u001b[0m\u001b[1;32m     89\u001b[0m     \u001b[0mcompleteName\u001b[0m \u001b[0;34m=\u001b[0m \u001b[0mreplace_symbols_with_space\u001b[0m\u001b[0;34m(\u001b[0m\u001b[0mstr\u001b[0m\u001b[0;34m(\u001b[0m\u001b[0mnew_name\u001b[0m\u001b[0;34m)\u001b[0m\u001b[0;34m)\u001b[0m \u001b[0;34m+\u001b[0m \u001b[0;34m\".pdf\"\u001b[0m\u001b[0;34m\u001b[0m\u001b[0;34m\u001b[0m\u001b[0m\n\u001b[1;32m     90\u001b[0m     \u001b[0mshutil\u001b[0m\u001b[0;34m.\u001b[0m\u001b[0mmove\u001b[0m\u001b[0;34m(\u001b[0m\u001b[0mfilename\u001b[0m\u001b[0;34m,\u001b[0m\u001b[0mos\u001b[0m\u001b[0;34m.\u001b[0m\u001b[0mpath\u001b[0m\u001b[0;34m.\u001b[0m\u001b[0mjoin\u001b[0m\u001b[0;34m(\u001b[0m\u001b[0mdestination_folder_path\u001b[0m\u001b[0;34m,\u001b[0m\u001b[0mstr\u001b[0m\u001b[0;34m(\u001b[0m\u001b[0mcompleteName\u001b[0m\u001b[0;34m)\u001b[0m\u001b[0;34m)\u001b[0m\u001b[0;34m)\u001b[0m\u001b[0;34m\u001b[0m\u001b[0;34m\u001b[0m\u001b[0m\n",
      "\u001b[0;31mValueError\u001b[0m: max() arg is an empty sequence"
     ]
    }
   ],
   "source": [
    "file_rename_and_moving(missed_IEEExplore_article_list[manual_index], DOWNLOAD_LOCATION, IEE_XPLORE_FOLDERPATH) \n",
    "manual_index += 1"
   ]
  },
  {
   "cell_type": "code",
   "execution_count": 69,
   "id": "c7bd6733",
   "metadata": {},
   "outputs": [],
   "source": [
    "not_accessible.append(missed_IEEExplore_article_list[manual_index])"
   ]
  },
  {
   "cell_type": "markdown",
   "id": "336d89d6",
   "metadata": {},
   "source": [
    "### MDPI missed articles"
   ]
  },
  {
   "cell_type": "code",
   "execution_count": 70,
   "id": "d78a6907",
   "metadata": {},
   "outputs": [
    {
     "data": {
      "text/plain": [
       "['new dataset for forecasting realized volatility  is the tokyo stock exchange co location dataset helpful for expansion of the heterogeneous autoregressive model in the japanese stock market ',\n",
       " 'prediction of stock performance using deep neural networks']"
      ]
     },
     "execution_count": 70,
     "metadata": {},
     "output_type": "execute_result"
    }
   ],
   "source": [
    "missed_MDPI_article_list"
   ]
  },
  {
   "cell_type": "code",
   "execution_count": 71,
   "id": "112bb8f6",
   "metadata": {},
   "outputs": [],
   "source": [
    "manual_index = 0"
   ]
  },
  {
   "cell_type": "code",
   "execution_count": 76,
   "id": "4e1455dd",
   "metadata": {},
   "outputs": [
    {
     "ename": "IndexError",
     "evalue": "list index out of range",
     "output_type": "error",
     "traceback": [
      "\u001b[0;31m---------------------------------------------------------------------------\u001b[0m",
      "\u001b[0;31mIndexError\u001b[0m                                Traceback (most recent call last)",
      "\u001b[0;32m<ipython-input-76-33917b20f2b1>\u001b[0m in \u001b[0;36m<module>\u001b[0;34m\u001b[0m\n\u001b[0;32m----> 1\u001b[0;31m \u001b[0mmissed_MDPI_article_list\u001b[0m\u001b[0;34m[\u001b[0m\u001b[0mmanual_index\u001b[0m\u001b[0;34m]\u001b[0m\u001b[0;34m\u001b[0m\u001b[0;34m\u001b[0m\u001b[0m\n\u001b[0m",
      "\u001b[0;31mIndexError\u001b[0m: list index out of range"
     ]
    }
   ],
   "source": [
    "missed_MDPI_article_list[manual_index]"
   ]
  },
  {
   "cell_type": "code",
   "execution_count": 75,
   "id": "9e959207",
   "metadata": {},
   "outputs": [
    {
     "name": "stdout",
     "output_type": "stream",
     "text": [
      "file renamed and moved\n"
     ]
    }
   ],
   "source": [
    "file_rename_and_moving(missed_MDPI_article_list[manual_index], DOWNLOAD_LOCATION, MDPI_FOLDERPATH) \n",
    "manual_index += 1"
   ]
  },
  {
   "cell_type": "code",
   "execution_count": null,
   "id": "d4ad28a6",
   "metadata": {},
   "outputs": [],
   "source": [
    "#not_accessible.append(missed_MDPI_article_list[manual_index])"
   ]
  },
  {
   "cell_type": "markdown",
   "id": "d706975c",
   "metadata": {},
   "source": [
    "### science direct missed articles"
   ]
  },
  {
   "cell_type": "code",
   "execution_count": 77,
   "id": "c80759aa",
   "metadata": {},
   "outputs": [
    {
     "data": {
      "text/plain": [
       "['forecasting direction of china security index     movement with least squares support vector machine']"
      ]
     },
     "execution_count": 77,
     "metadata": {},
     "output_type": "execute_result"
    }
   ],
   "source": [
    "missed_ScienceDirect_article_list"
   ]
  },
  {
   "cell_type": "code",
   "execution_count": 78,
   "id": "d463e9d5",
   "metadata": {},
   "outputs": [
    {
     "name": "stdout",
     "output_type": "stream",
     "text": [
      "file renamed and moved\n"
     ]
    }
   ],
   "source": [
    "file_rename_and_moving(missed_ScienceDirect_article_list[0], DOWNLOAD_LOCATION, SCIENCE_DIRECT_FOLDERPATH) "
   ]
  },
  {
   "cell_type": "markdown",
   "id": "6d4e2159",
   "metadata": {},
   "source": [
    "### arxiv missed articles"
   ]
  },
  {
   "cell_type": "code",
   "execution_count": 79,
   "id": "c2f4ec7c",
   "metadata": {},
   "outputs": [
    {
     "data": {
      "text/plain": [
       "['using twitter attribute information to predict stock prices',\n",
       " 'variety and volatility in financial markets',\n",
       " 'financial market directional forecasting with stacked denoising autoencoder',\n",
       " 'sparse index tracking based on  l        model and algorithm',\n",
       " 'a network analysis of the volatility of high dimensional financial series',\n",
       " 'predictive intraday correlations in stable and volatile market environments  evidence from deep learning',\n",
       " 'forecasting directional movements of stock prices for intraday trading using lstm and random forests',\n",
       " 'stock market microstructure inference via multi agent reinforcement learning',\n",
       " 'time varying neural network for stock return prediction',\n",
       " 'when bots take over the stock market  evasion attacks against algorithmic traders',\n",
       " 'model based reinforcement learning for predictions and control for limit order books',\n",
       " 'the predictive power of zero intelligence in financial markets',\n",
       " 'a stochastic time series model for predicting financial trends using nlp',\n",
       " 'multi task learning for financial forecasting',\n",
       " 'hybrid symbiotic organisms search feedforward neural network model for stock price prediction',\n",
       " 'comparative study of financial time series prediction by artificial neural network with gradient descent learning',\n",
       " 'predicting indian stock market using the psycho linguistic features of financial news',\n",
       " 'a novel twitter sentiment analysis model with baseline correlation for financial market prediction with improved efficiency',\n",
       " 'a tensor based sub mode coordinate algorithm for stock prediction',\n",
       " 'stochastic volatility in a quantitative model of stock market returns',\n",
       " 'deep learning can replicate adaptive traders in a limit order book financial market',\n",
       " 'discrete wavelet transform based prediction of stock index  a study on national stock exchange fifty index',\n",
       " 'predicting intraday jumps in stock prices using liquidity measures and technical indicators',\n",
       " 'deep recurrent factor model  interpretable non linear and time varying multi factor model',\n",
       " 'image processing tools for financial time series classification',\n",
       " 'deep factor model  explaining deep learning decisions for forecasting stock returns with layer wise relevance propagation',\n",
       " 'a novel ensemble deep learning model for stock prediction based on stock prices and news',\n",
       " 'a novel improved fuzzy support vector machine based stock price trend forecast model']"
      ]
     },
     "execution_count": 79,
     "metadata": {},
     "output_type": "execute_result"
    }
   ],
   "source": [
    "missed_arxiv_article_list"
   ]
  },
  {
   "cell_type": "code",
   "execution_count": 80,
   "id": "771967ca",
   "metadata": {},
   "outputs": [],
   "source": [
    "manual_index = 0"
   ]
  },
  {
   "cell_type": "code",
   "execution_count": 202,
   "id": "0fdcb8a4",
   "metadata": {},
   "outputs": [
    {
     "ename": "IndexError",
     "evalue": "list index out of range",
     "output_type": "error",
     "traceback": [
      "\u001b[0;31m---------------------------------------------------------------------------\u001b[0m",
      "\u001b[0;31mIndexError\u001b[0m                                Traceback (most recent call last)",
      "\u001b[0;32m<ipython-input-202-380d1700a7f9>\u001b[0m in \u001b[0;36m<module>\u001b[0;34m\u001b[0m\n\u001b[0;32m----> 1\u001b[0;31m \u001b[0marticle_name\u001b[0m \u001b[0;34m=\u001b[0m \u001b[0mmissed_arxiv_article_list\u001b[0m\u001b[0;34m[\u001b[0m\u001b[0mmanual_index\u001b[0m\u001b[0;34m]\u001b[0m\u001b[0;34m\u001b[0m\u001b[0;34m\u001b[0m\u001b[0m\n\u001b[0m",
      "\u001b[0;31mIndexError\u001b[0m: list index out of range"
     ]
    }
   ],
   "source": [
    "article_name = missed_arxiv_article_list[manual_index]"
   ]
  },
  {
   "cell_type": "code",
   "execution_count": 199,
   "id": "84c24473",
   "metadata": {},
   "outputs": [
    {
     "name": "stdout",
     "output_type": "stream",
     "text": [
      "trying to download: a novel improved fuzzy support vector machine based stock price trend forecast model\n"
     ]
    }
   ],
   "source": [
    "print(f\"trying to download: {article_name}\")\n",
    "write_in_inputbox(\"xpath\", arxiv_search_inputbox_xpath, article_name)"
   ]
  },
  {
   "cell_type": "code",
   "execution_count": 200,
   "id": "5ecc3ab6",
   "metadata": {},
   "outputs": [],
   "source": [
    "click_on_button(\"xpath\", arxiv_search_button_xpath)"
   ]
  },
  {
   "cell_type": "code",
   "execution_count": 201,
   "id": "d969d0ee",
   "metadata": {},
   "outputs": [
    {
     "name": "stdout",
     "output_type": "stream",
     "text": [
      "file renamed and moved\n"
     ]
    }
   ],
   "source": [
    "file_rename_and_moving(article_name, DOWNLOAD_LOCATION, ARXIV_FOLDERPATH) \n",
    "manual_index += 1"
   ]
  },
  {
   "cell_type": "code",
   "execution_count": null,
   "id": "81af1e14",
   "metadata": {},
   "outputs": [],
   "source": [
    "#not_accessible.append(missed_arxiv_article_list[manual_index])"
   ]
  },
  {
   "cell_type": "code",
   "execution_count": 160,
   "id": "c097244e",
   "metadata": {},
   "outputs": [
    {
     "data": {
      "text/plain": [
       "18"
      ]
     },
     "execution_count": 160,
     "metadata": {},
     "output_type": "execute_result"
    }
   ],
   "source": [
    "manual_index"
   ]
  },
  {
   "cell_type": "code",
   "execution_count": null,
   "id": "662383d8",
   "metadata": {},
   "outputs": [],
   "source": [
    "#click_on_button(\"xpath\", arxiv_pdf_button_xpath)"
   ]
  },
  {
   "cell_type": "markdown",
   "id": "787c2070",
   "metadata": {},
   "source": [
    "### Proquest central missed articles"
   ]
  },
  {
   "cell_type": "code",
   "execution_count": 203,
   "id": "4cc69424",
   "metadata": {},
   "outputs": [
    {
     "data": {
      "text/plain": [
       "['detection of anomaly stock price based on time series deep learning models',\n",
       " 'machine learning on stock price movement forecast  the sample of the taiwan stock exchange',\n",
       " 'machine learning for predicting stock market movement using news headlines',\n",
       " 'stock price prediction with arima and deep learning models',\n",
       " 'carbon price forecasting based on improved ceemdan and extreme learning machine optimized by sparrow search algorithm',\n",
       " 'machine learning techniques for short term stock movements classification for moroccan stock exchange',\n",
       " 'determining the impact of window length on time series forecasting using deep learning',\n",
       " 'deep learning can replicate adaptive traders in a limit order book financial market',\n",
       " 'prediction of stock prices using machine learning  regression  classification  algorithms',\n",
       " 'token based adaptive time series prediction by ensembling linear and non linear estimators  a machine learning approach for predictive analytics on big stock data',\n",
       " 'deep learning with stock indicators and two dimensional principal component analysis for closing price prediction system',\n",
       " 'stock movement prediction with sentiment analysis based on deep learning networks',\n",
       " 'using machine learning to predict realized variance',\n",
       " 'a deep learning framework for financial time series using stacked autoencoders and long short term memory',\n",
       " 'deep learning based forecasting in stock market with big data analytics',\n",
       " 'stock market prediction based on social sentiments using machine learning',\n",
       " 'deep learning networks for stock market analysis and prediction  methodology  data representations  and case studies',\n",
       " 'a deep learning based stock trading model with   d cnn trend detection',\n",
       " 'deep learning based non linear regression for stock prediction',\n",
       " 'prediction of stock market performance by using machine learning techniques',\n",
       " 'forecasting daily stock trend using multi filter feature selection and deep learning',\n",
       " 'evaluation of tree based ensemble machine learning models in predicting stock price direction of movement',\n",
       " 'novel volatility forecasting using deep learning long short term memory recurrent neural networks',\n",
       " 'stock price prediction  a comparative study between traditional statistical approach and machine learning approach',\n",
       " 'robo advisors  machine learning in trend following etf investments',\n",
       " 'sentiment driven price prediction of the bitcoin based on statistical and deep learning approaches',\n",
       " 'comparative analysis of machine learning algorithm to forecast indian stock market',\n",
       " 'an algorithm for supporting decision making in stock investment through opinion mining and machine learning',\n",
       " 'deep learning based stock price prediction using lstm and bi directional lstm model',\n",
       " 'research on market stock index prediction based on network security and deep learning',\n",
       " 'an intelligent market capitalization predictive system using deep learning',\n",
       " 'stock market decision support modeling with tree based adaboost ensemble machine learning models',\n",
       " 'portfolio formation with preselection using deep learning from long term financial data',\n",
       " 'finding expert authors in financial forum using deep learning methods',\n",
       " 'an efficient prediction model based on machine learning techniques for prediction of the stock market',\n",
       " 'a novel ensemble deep learning model for stock prediction based on stock prices and news',\n",
       " 'forward forecast of stock price using sliding window metaheuristic optimized machine learning regression',\n",
       " 'predicting the unpredictable  an application of machine learning algorithms in indian stock market',\n",
       " 'recursive stock price prediction with machine learning and web scrapping for specified time period',\n",
       " 'stock market analysis and price prediction using deep learning and artificial neural networks',\n",
       " 'on the differential analysis of enterprise valuation methods as a guideline for unlisted companies assessment  ii   applying machine learning techniques for unbiased enterprise value assessment',\n",
       " 'analysing stock market trend prediction using machine deep learning models  a comprehensive review',\n",
       " 'predictive intraday correlations in stable and volatile market environments  evidence from deep learning',\n",
       " 'application of deep learning in stock market valuation index forecasting']"
      ]
     },
     "execution_count": 203,
     "metadata": {},
     "output_type": "execute_result"
    }
   ],
   "source": [
    "missed_Proquestcentral_article_list"
   ]
  },
  {
   "cell_type": "code",
   "execution_count": 205,
   "id": "7f4ae38c",
   "metadata": {},
   "outputs": [],
   "source": []
  },
  {
   "cell_type": "code",
   "execution_count": 206,
   "id": "7c55147a",
   "metadata": {},
   "outputs": [],
   "source": [
    "manual_index = 0"
   ]
  },
  {
   "cell_type": "code",
   "execution_count": 429,
   "id": "3bafd6cb",
   "metadata": {},
   "outputs": [
    {
     "ename": "IndexError",
     "evalue": "list index out of range",
     "output_type": "error",
     "traceback": [
      "\u001b[0;31m---------------------------------------------------------------------------\u001b[0m",
      "\u001b[0;31mIndexError\u001b[0m                                Traceback (most recent call last)",
      "\u001b[0;32m<ipython-input-429-64d5ac2fe853>\u001b[0m in \u001b[0;36m<module>\u001b[0;34m\u001b[0m\n\u001b[0;32m----> 1\u001b[0;31m \u001b[0marticle_name\u001b[0m \u001b[0;34m=\u001b[0m \u001b[0mmissed_Proquestcentral_article_list\u001b[0m\u001b[0;34m[\u001b[0m\u001b[0mmanual_index\u001b[0m\u001b[0;34m]\u001b[0m\u001b[0;34m\u001b[0m\u001b[0;34m\u001b[0m\u001b[0m\n\u001b[0m\u001b[1;32m      2\u001b[0m \u001b[0mprint\u001b[0m\u001b[0;34m(\u001b[0m\u001b[0;34mf\"trying to download: {article_name}\"\u001b[0m\u001b[0;34m)\u001b[0m\u001b[0;34m\u001b[0m\u001b[0;34m\u001b[0m\u001b[0m\n",
      "\u001b[0;31mIndexError\u001b[0m: list index out of range"
     ]
    }
   ],
   "source": [
    "article_name = missed_Proquestcentral_article_list[manual_index]\n",
    "print(f\"trying to download: {article_name}\")"
   ]
  },
  {
   "cell_type": "code",
   "execution_count": 425,
   "id": "01efe122",
   "metadata": {},
   "outputs": [],
   "source": [
    "driver.get(PROQUEST_CENTRAL_WEB_LINK)"
   ]
  },
  {
   "cell_type": "code",
   "execution_count": 426,
   "id": "5d984470",
   "metadata": {},
   "outputs": [],
   "source": [
    "write_in_inputbox(\"xpath\", proquest_central_search_inputbox_xpath, article_name)"
   ]
  },
  {
   "cell_type": "code",
   "execution_count": 427,
   "id": "5c853ebc",
   "metadata": {},
   "outputs": [],
   "source": [
    "click_on_button(\"xpath\", proquest_central_search_button_xpath)"
   ]
  },
  {
   "cell_type": "code",
   "execution_count": 422,
   "id": "1d2d7f04",
   "metadata": {},
   "outputs": [
    {
     "name": "stdout",
     "output_type": "stream",
     "text": [
      "file renamed and moved\n"
     ]
    }
   ],
   "source": [
    "file_rename_and_moving(article_name, DOWNLOAD_LOCATION, PROQUEST_CENTRAL_FOLDERPATH)\n",
    "manual_index += 1"
   ]
  },
  {
   "cell_type": "code",
   "execution_count": 428,
   "id": "ea4289b9",
   "metadata": {},
   "outputs": [],
   "source": [
    "not_accessible.append(article_name)\n",
    "manual_index += 1"
   ]
  },
  {
   "cell_type": "code",
   "execution_count": null,
   "id": "0b9cbb15",
   "metadata": {},
   "outputs": [],
   "source": []
  },
  {
   "cell_type": "code",
   "execution_count": 433,
   "id": "39c5dd65",
   "metadata": {},
   "outputs": [
    {
     "data": {
      "text/plain": [
       "['decision trees in stock market analysis  construction and validation',\n",
       " 'a dual attention based stock price trend prediction model with dual features',\n",
       " 'detection of anomaly stock price based on time series deep learning models',\n",
       " 'machine learning for predicting stock market movement using news headlines',\n",
       " 'stock price prediction with arima and deep learning models',\n",
       " 'machine learning techniques for short term stock movements classification for moroccan stock exchange',\n",
       " 'deep learning can replicate adaptive traders in a limit order book financial market',\n",
       " 'prediction of stock prices using machine learning  regression  classification  algorithms',\n",
       " 'token based adaptive time series prediction by ensembling linear and non linear estimators  a machine learning approach for predictive analytics on big stock data',\n",
       " 'deep learning with stock indicators and two dimensional principal component analysis for closing price prediction system',\n",
       " 'stock movement prediction with sentiment analysis based on deep learning networks',\n",
       " 'using machine learning to predict realized variance',\n",
       " 'deep learning based forecasting in stock market with big data analytics',\n",
       " 'stock market prediction based on social sentiments using machine learning',\n",
       " 'a deep learning based stock trading model with   d cnn trend detection',\n",
       " 'prediction of stock market performance by using machine learning techniques',\n",
       " 'forecasting daily stock trend using multi filter feature selection and deep learning',\n",
       " 'novel volatility forecasting using deep learning long short term memory recurrent neural networks',\n",
       " 'stock price prediction  a comparative study between traditional statistical approach and machine learning approach',\n",
       " 'sentiment driven price prediction of the bitcoin based on statistical and deep learning approaches',\n",
       " 'comparative analysis of machine learning algorithm to forecast indian stock market',\n",
       " 'an algorithm for supporting decision making in stock investment through opinion mining and machine learning',\n",
       " 'deep learning based stock price prediction using lstm and bi directional lstm model',\n",
       " 'an intelligent market capitalization predictive system using deep learning',\n",
       " 'finding expert authors in financial forum using deep learning methods',\n",
       " 'forward forecast of stock price using sliding window metaheuristic optimized machine learning regression',\n",
       " 'recursive stock price prediction with machine learning and web scrapping for specified time period',\n",
       " 'analysing stock market trend prediction using machine deep learning models  a comprehensive review',\n",
       " 'application of deep learning in stock market valuation index forecasting']"
      ]
     },
     "execution_count": 433,
     "metadata": {},
     "output_type": "execute_result"
    }
   ],
   "source": [
    "not_accessible"
   ]
  },
  {
   "cell_type": "code",
   "execution_count": 431,
   "id": "17c00812",
   "metadata": {},
   "outputs": [],
   "source": [
    "def list_to_text_file(filename, listname, permission = \"w\"):\n",
    "    with open(filename, permission) as w:\n",
    "        for i in listname:\n",
    "            w.write(str(i))\n",
    "            w.write(\"\\n\")"
   ]
  },
  {
   "cell_type": "code",
   "execution_count": 432,
   "id": "d4fcea42",
   "metadata": {},
   "outputs": [],
   "source": [
    "list_to_text_file(\"not_accessible_articles.txt\", not_accessible)"
   ]
  },
  {
   "cell_type": "code",
   "execution_count": 435,
   "id": "a1f6f3ec",
   "metadata": {},
   "outputs": [
    {
     "data": {
      "text/plain": [
       "'/home/chaudharyubuntu'"
      ]
     },
     "execution_count": 435,
     "metadata": {},
     "output_type": "execute_result"
    }
   ],
   "source": []
  },
  {
   "cell_type": "code",
   "execution_count": null,
   "id": "831a05bd",
   "metadata": {},
   "outputs": [],
   "source": []
  }
 ],
 "metadata": {
  "kernelspec": {
   "display_name": "Python 3 (ipykernel)",
   "language": "python",
   "name": "python3"
  },
  "language_info": {
   "codemirror_mode": {
    "name": "ipython",
    "version": 3
   },
   "file_extension": ".py",
   "mimetype": "text/x-python",
   "name": "python",
   "nbconvert_exporter": "python",
   "pygments_lexer": "ipython3",
   "version": "3.9.7"
  }
 },
 "nbformat": 4,
 "nbformat_minor": 5
}
